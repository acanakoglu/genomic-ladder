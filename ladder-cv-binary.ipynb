{
 "cells": [
  {
   "cell_type": "code",
   "execution_count": 1,
   "metadata": {
    "collapsed": true
   },
   "outputs": [],
   "source": [
    "#This is the modified version of the ladder network code from https://github.com/rinuboney/ladder\n",
    "#Certain modfications are made to use & experiment with gene expression data\n",
    "#\n",
    "import pickle\n",
    "import numpy\n",
    "from sklearn.model_selection import KFold\n",
    "from sklearn.model_selection import StratifiedKFold\n",
    "from sklearn.model_selection import StratifiedShuffleSplit\n",
    "\n",
    "class DataSet(object):\n",
    "\n",
    "  def __init__(self, dataset, labels):\n",
    "    features = 20207\n",
    "    num_labels = 60\n",
    "    \n",
    "    self._dataset = dataset\n",
    "    self._labels = labels\n",
    "    self._epochs_completed = 0\n",
    "    self._index_in_epoch = 0\n",
    "    self._num_examples = dataset.shape[0]\n",
    "\n",
    "  @property\n",
    "  def dataset(self):\n",
    "    return self._dataset\n",
    "\n",
    "  @property\n",
    "  def labels(self):\n",
    "    return self._labels\n",
    "\n",
    "  @property\n",
    "  def num_examples(self):\n",
    "    return self._num_examples\n",
    "\n",
    "  @property\n",
    "  def epochs_completed(self):\n",
    "    return self._epochs_completed\n",
    "\n",
    "  def next_batch(self, batch_size):\n",
    "    \"\"\"Return the next `batch_size` examples from this data set.\"\"\"\n",
    "    #print (\"index\", self._index_in_epoch)\n",
    "    start = self._index_in_epoch\n",
    "    self._index_in_epoch += batch_size\n",
    "    if self._index_in_epoch > self._num_examples:\n",
    "      # Finished epoch\n",
    "      self._epochs_completed += 1\n",
    "      # Shuffle the data\n",
    "      perm = numpy.arange(self._num_examples)\n",
    "      numpy.random.shuffle(perm)\n",
    "      self._dataset = self._dataset[perm]\n",
    "      self._labels = self._labels[perm]\n",
    "      # Start next epoch\n",
    "      start = 0\n",
    "      self._index_in_epoch = batch_size\n",
    "      assert batch_size <= self._num_examples\n",
    "    end = self._index_in_epoch\n",
    "    return self._dataset[start:end], self._labels[start:end]\n",
    "\n",
    "class SemiDataSet(object):\n",
    "    def __init__(self, dataset, labels, n_labeled):\n",
    "        \n",
    "        self.n_labeled = n_labeled\n",
    "\n",
    "        # Unlabled DataSet\n",
    "        self.unlabeled_ds = DataSet(dataset, labels)\n",
    "\n",
    "        # Labeled DataSet\n",
    "        self.num_examples = self.unlabeled_ds.num_examples\n",
    "        indices = numpy.arange(self.num_examples)\n",
    "        shuffled_indices = numpy.random.permutation(indices)\n",
    "        dataset = dataset[shuffled_indices]\n",
    "        labels = labels[shuffled_indices]\n",
    "        y = numpy.array([numpy.arange(2)[l==1][0] for l in labels])\n",
    "        \n",
    "        idx = indices[y==0][:5]\n",
    "        n_classes = y.max() + 1\n",
    "        n_from_each_class = n_labeled // n_classes\n",
    "        i_labeled = []\n",
    "        for c in range(n_classes):\n",
    "            i = indices[y==c][:n_from_each_class]\n",
    "            i_labeled += list(i)\n",
    "        l_dataset = dataset[i_labeled]\n",
    "        l_labels = labels[i_labeled]\n",
    "        self.labeled_ds = DataSet(l_dataset, l_labels)\n",
    "\n",
    "    def next_batch(self, batch_size):\n",
    "        #print (\"batch size semi\", batch_size)\n",
    "        unlabeled_dataset, _ = self.unlabeled_ds.next_batch(batch_size)\n",
    "     \n",
    "        if batch_size > self.n_labeled:\n",
    "            labeled_dataset, labels = self.labeled_ds.next_batch(self.n_labeled)\n",
    "        else:\n",
    "            labeled_dataset, labels = self.labeled_ds.next_batch(batch_size)\n",
    "            #print (labeled_dataset.shape)\n",
    "        #print (\"labels shape aasd\", labels.shape)\n",
    "        #print (labels)\n",
    "        dataset = numpy.vstack([labeled_dataset, unlabeled_dataset])\n",
    "        return dataset, labels"
   ]
  },
  {
   "cell_type": "code",
   "execution_count": 2,
   "metadata": {
    "collapsed": true
   },
   "outputs": [],
   "source": [
    "#one-hot label\n",
    "def dense_to_one_hot(labels_dense, num_classes=2):\n",
    "\n",
    "  \"\"\"Convert class labels from scalars to one-hot vectors.\"\"\"\n",
    "  num_labels = labels_dense.shape[0]\n",
    "  print(num_labels)\n",
    "  index_offset = numpy.arange(num_labels) * num_classes\n",
    "  labels_one_hot = numpy.zeros((num_labels, num_classes))\n",
    "  labels_one_hot.flat[index_offset + labels_dense.ravel()] = 1\n",
    "  return labels_one_hot\n"
   ]
  },
  {
   "cell_type": "code",
   "execution_count": 3,
   "metadata": {
    "collapsed": true
   },
   "outputs": [],
   "source": [
    "#fix labels  1 for tumoral, 0 for healthy\n",
    "def fix_label(labels):\n",
    "    labels= [1 if x==1 else 0 for x in labels]\n",
    "    \n",
    "    return numpy.array(labels)\n"
   ]
  },
  {
   "cell_type": "code",
   "execution_count": 5,
   "metadata": {
    "scrolled": false
   },
   "outputs": [
    {
     "name": "stdout",
     "output_type": "stream",
     "text": [
      "=== Corrupted Encoder ===\n",
      "Layer  1 :  20207  ->  2000\n",
      "Layer  2 :  2000  ->  1000\n",
      "Layer  3 :  1000  ->  500\n",
      "Layer  4 :  500  ->  250\n",
      "Layer  5 :  250  ->  10\n",
      "Layer  6 :  10  ->  2\n",
      "=== Clean Encoder ===\n",
      "Layer  1 :  20207  ->  2000\n",
      "Layer  2 :  2000  ->  1000\n",
      "Layer  3 :  1000  ->  500\n",
      "Layer  4 :  500  ->  250\n",
      "Layer  5 :  250  ->  10\n",
      "Layer  6 :  10  ->  2\n",
      "=== Decoder ===\n",
      "Layer  6 :  None  ->  2 , denoising cost:  0.1\n",
      "Layer  5 :  2  ->  10 , denoising cost:  0.1\n",
      "Layer  4 :  10  ->  250 , denoising cost:  0.1\n",
      "Layer  3 :  250  ->  500 , denoising cost:  0.1\n",
      "Layer  2 :  500  ->  1000 , denoising cost:  0.1\n",
      "Layer  1 :  1000  ->  2000 , denoising cost:  10.0\n",
      "Layer  0 :  2000  ->  20207 , denoising cost:  1000.0\n",
      "===  Loading Data ===\n",
      "730\n",
      "244\n",
      "244\n",
      "(730, 2)\n",
      "(730, 20207)\n",
      "===  Starting Session ===\n",
      "session started\n",
      "=== Training ===\n",
      "Initial Accuracy:  7.78688 %\n"
     ]
    },
    {
     "name": "stderr",
     "output_type": "stream",
     "text": [
      "  1%|██                                                                                                                                                                                                                           | 11/1200 [00:02<03:24,  5.82it/s]"
     ]
    },
    {
     "name": "stdout",
     "output_type": "stream",
     "text": [
      "Epoch  0 , Accuracy:  8.19672 %\n"
     ]
    },
    {
     "name": "stderr",
     "output_type": "stream",
     "text": [
      "  2%|████▏                                                                                                                                                                                                                        | 23/1200 [00:04<03:00,  6.52it/s]"
     ]
    },
    {
     "name": "stdout",
     "output_type": "stream",
     "text": [
      "Epoch  1 , Accuracy:  74.5902 %\n"
     ]
    },
    {
     "name": "stderr",
     "output_type": "stream",
     "text": [
      "  3%|██████▍                                                                                                                                                                                                                      | 35/1200 [00:06<02:58,  6.54it/s]"
     ]
    },
    {
     "name": "stdout",
     "output_type": "stream",
     "text": [
      "Epoch  2 , Accuracy:  75.8197 %\n"
     ]
    },
    {
     "name": "stderr",
     "output_type": "stream",
     "text": [
      "  4%|████████▋                                                                                                                                                                                                                    | 47/1200 [00:08<02:58,  6.46it/s]"
     ]
    },
    {
     "name": "stdout",
     "output_type": "stream",
     "text": [
      "Epoch  3 , Accuracy:  81.5574 %\n"
     ]
    },
    {
     "name": "stderr",
     "output_type": "stream",
     "text": [
      "  5%|██████████▊                                                                                                                                                                                                                  | 59/1200 [00:10<02:56,  6.48it/s]"
     ]
    },
    {
     "name": "stdout",
     "output_type": "stream",
     "text": [
      "Epoch  4 , Accuracy:  84.4262 %\n"
     ]
    },
    {
     "name": "stderr",
     "output_type": "stream",
     "text": [
      "  6%|█████████████                                                                                                                                                                                                                | 71/1200 [00:12<02:54,  6.47it/s]"
     ]
    },
    {
     "name": "stdout",
     "output_type": "stream",
     "text": [
      "Epoch  5 , Accuracy:  86.0656 %\n"
     ]
    },
    {
     "name": "stderr",
     "output_type": "stream",
     "text": [
      "  7%|███████████████▎                                                                                                                                                                                                             | 83/1200 [00:14<03:00,  6.18it/s]"
     ]
    },
    {
     "name": "stdout",
     "output_type": "stream",
     "text": [
      "Epoch  6 , Accuracy:  86.4754 %\n"
     ]
    },
    {
     "name": "stderr",
     "output_type": "stream",
     "text": [
      "  8%|█████████████████▍                                                                                                                                                                                                           | 95/1200 [00:16<02:51,  6.43it/s]"
     ]
    },
    {
     "name": "stdout",
     "output_type": "stream",
     "text": [
      "Epoch  7 , Accuracy:  91.3934 %\n"
     ]
    },
    {
     "name": "stderr",
     "output_type": "stream",
     "text": [
      "  9%|███████████████████▌                                                                                                                                                                                                        | 107/1200 [00:18<02:49,  6.47it/s]"
     ]
    },
    {
     "name": "stdout",
     "output_type": "stream",
     "text": [
      "Epoch  8 , Accuracy:  94.2623 %\n"
     ]
    },
    {
     "name": "stderr",
     "output_type": "stream",
     "text": [
      " 10%|█████████████████████▊                                                                                                                                                                                                      | 119/1200 [00:20<02:45,  6.52it/s]"
     ]
    },
    {
     "name": "stdout",
     "output_type": "stream",
     "text": [
      "Epoch  9 , Accuracy:  94.2623 %\n"
     ]
    },
    {
     "name": "stderr",
     "output_type": "stream",
     "text": [
      " 11%|████████████████████████                                                                                                                                                                                                    | 131/1200 [00:23<02:43,  6.54it/s]"
     ]
    },
    {
     "name": "stdout",
     "output_type": "stream",
     "text": [
      "Epoch  10 , Accuracy:  95.9016 %\n"
     ]
    },
    {
     "name": "stderr",
     "output_type": "stream",
     "text": [
      " 12%|██████████████████████████▏                                                                                                                                                                                                 | 143/1200 [00:25<02:43,  6.48it/s]"
     ]
    },
    {
     "name": "stdout",
     "output_type": "stream",
     "text": [
      "Epoch  11 , Accuracy:  96.3115 %\n"
     ]
    },
    {
     "name": "stderr",
     "output_type": "stream",
     "text": [
      " 13%|████████████████████████████▍                                                                                                                                                                                               | 155/1200 [00:27<02:40,  6.50it/s]"
     ]
    },
    {
     "name": "stdout",
     "output_type": "stream",
     "text": [
      "Epoch  12 , Accuracy:  97.541 %\n"
     ]
    },
    {
     "name": "stderr",
     "output_type": "stream",
     "text": [
      " 14%|██████████████████████████████▌                                                                                                                                                                                             | 167/1200 [00:29<02:39,  6.49it/s]"
     ]
    },
    {
     "name": "stdout",
     "output_type": "stream",
     "text": [
      "Epoch  13 , Accuracy:  97.541 %\n"
     ]
    },
    {
     "name": "stderr",
     "output_type": "stream",
     "text": [
      " 15%|████████████████████████████████▊                                                                                                                                                                                           | 179/1200 [00:31<02:42,  6.29it/s]"
     ]
    },
    {
     "name": "stdout",
     "output_type": "stream",
     "text": [
      "Epoch  14 , Accuracy:  97.541 %\n"
     ]
    },
    {
     "name": "stderr",
     "output_type": "stream",
     "text": [
      " 16%|███████████████████████████████████                                                                                                                                                                                         | 191/1200 [00:33<02:35,  6.50it/s]"
     ]
    },
    {
     "name": "stdout",
     "output_type": "stream",
     "text": [
      "Epoch  15 , Accuracy:  97.541 %\n"
     ]
    },
    {
     "name": "stderr",
     "output_type": "stream",
     "text": [
      " 17%|█████████████████████████████████████▏                                                                                                                                                                                      | 203/1200 [00:35<02:32,  6.52it/s]"
     ]
    },
    {
     "name": "stdout",
     "output_type": "stream",
     "text": [
      "Epoch  16 , Accuracy:  97.9508 %\n"
     ]
    },
    {
     "name": "stderr",
     "output_type": "stream",
     "text": [
      " 18%|███████████████████████████████████████▍                                                                                                                                                                                    | 215/1200 [00:37<02:33,  6.44it/s]"
     ]
    },
    {
     "name": "stdout",
     "output_type": "stream",
     "text": [
      "Epoch  17 , Accuracy:  98.3607 %\n"
     ]
    },
    {
     "name": "stderr",
     "output_type": "stream",
     "text": [
      " 19%|█████████████████████████████████████████▌                                                                                                                                                                                  | 227/1200 [00:39<02:31,  6.44it/s]"
     ]
    },
    {
     "name": "stdout",
     "output_type": "stream",
     "text": [
      "Epoch  18 , Accuracy:  98.3607 %\n"
     ]
    },
    {
     "name": "stderr",
     "output_type": "stream",
     "text": [
      " 20%|███████████████████████████████████████████▊                                                                                                                                                                                | 239/1200 [00:41<02:29,  6.43it/s]"
     ]
    },
    {
     "name": "stdout",
     "output_type": "stream",
     "text": [
      "Epoch  19 , Accuracy:  98.3607 %\n"
     ]
    },
    {
     "name": "stderr",
     "output_type": "stream",
     "text": [
      " 21%|██████████████████████████████████████████████                                                                                                                                                                              | 251/1200 [00:43<02:25,  6.52it/s]"
     ]
    },
    {
     "name": "stdout",
     "output_type": "stream",
     "text": [
      "Epoch  20 , Accuracy:  98.3607 %\n"
     ]
    },
    {
     "name": "stderr",
     "output_type": "stream",
     "text": [
      " 22%|████████████████████████████████████████████████▏                                                                                                                                                                           | 263/1200 [00:45<02:25,  6.44it/s]"
     ]
    },
    {
     "name": "stdout",
     "output_type": "stream",
     "text": [
      "Epoch  21 , Accuracy:  98.3607 %\n"
     ]
    },
    {
     "name": "stderr",
     "output_type": "stream",
     "text": [
      " 23%|██████████████████████████████████████████████████▍                                                                                                                                                                         | 275/1200 [00:47<02:22,  6.47it/s]"
     ]
    },
    {
     "name": "stdout",
     "output_type": "stream",
     "text": [
      "Epoch  22 , Accuracy:  98.3607 %\n"
     ]
    },
    {
     "name": "stderr",
     "output_type": "stream",
     "text": [
      " 24%|████████████████████████████████████████████████████▌                                                                                                                                                                       | 287/1200 [00:49<02:21,  6.44it/s]"
     ]
    },
    {
     "name": "stdout",
     "output_type": "stream",
     "text": [
      "Epoch  23 , Accuracy:  98.3607 %\n"
     ]
    },
    {
     "name": "stderr",
     "output_type": "stream",
     "text": [
      " 25%|██████████████████████████████████████████████████████▊                                                                                                                                                                     | 299/1200 [00:52<02:18,  6.53it/s]"
     ]
    },
    {
     "name": "stdout",
     "output_type": "stream",
     "text": [
      "Epoch  24 , Accuracy:  98.3607 %\n"
     ]
    },
    {
     "name": "stderr",
     "output_type": "stream",
     "text": [
      " 26%|█████████████████████████████████████████████████████████                                                                                                                                                                   | 311/1200 [00:54<02:16,  6.51it/s]"
     ]
    },
    {
     "name": "stdout",
     "output_type": "stream",
     "text": [
      "Epoch  25 , Accuracy:  97.9508 %\n"
     ]
    },
    {
     "name": "stderr",
     "output_type": "stream",
     "text": [
      " 27%|███████████████████████████████████████████████████████████▏                                                                                                                                                                | 323/1200 [00:56<02:13,  6.57it/s]"
     ]
    },
    {
     "name": "stdout",
     "output_type": "stream",
     "text": [
      "Epoch  26 , Accuracy:  97.9508 %\n"
     ]
    },
    {
     "name": "stderr",
     "output_type": "stream",
     "text": [
      " 28%|█████████████████████████████████████████████████████████████▍                                                                                                                                                              | 335/1200 [00:58<02:11,  6.56it/s]"
     ]
    },
    {
     "name": "stdout",
     "output_type": "stream",
     "text": [
      "Epoch  27 , Accuracy:  97.9508 %\n"
     ]
    },
    {
     "name": "stderr",
     "output_type": "stream",
     "text": [
      " 29%|███████████████████████████████████████████████████████████████▌                                                                                                                                                            | 347/1200 [01:00<02:12,  6.42it/s]"
     ]
    },
    {
     "name": "stdout",
     "output_type": "stream",
     "text": [
      "Epoch  28 , Accuracy:  97.9508 %\n"
     ]
    },
    {
     "name": "stderr",
     "output_type": "stream",
     "text": [
      " 30%|█████████████████████████████████████████████████████████████████▊                                                                                                                                                          | 359/1200 [01:02<02:08,  6.52it/s]"
     ]
    },
    {
     "name": "stdout",
     "output_type": "stream",
     "text": [
      "Epoch  29 , Accuracy:  97.9508 %\n"
     ]
    },
    {
     "name": "stderr",
     "output_type": "stream",
     "text": [
      " 31%|████████████████████████████████████████████████████████████████████                                                                                                                                                        | 371/1200 [01:04<02:07,  6.50it/s]"
     ]
    },
    {
     "name": "stdout",
     "output_type": "stream",
     "text": [
      "Epoch  30 , Accuracy:  97.9508 %\n"
     ]
    },
    {
     "name": "stderr",
     "output_type": "stream",
     "text": [
      " 32%|██████████████████████████████████████████████████████████████████████▏                                                                                                                                                     | 383/1200 [01:06<02:06,  6.46it/s]"
     ]
    },
    {
     "name": "stdout",
     "output_type": "stream",
     "text": [
      "Epoch  31 , Accuracy:  97.9508 %\n"
     ]
    },
    {
     "name": "stderr",
     "output_type": "stream",
     "text": [
      " 33%|████████████████████████████████████████████████████████████████████████▍                                                                                                                                                   | 395/1200 [01:08<02:03,  6.51it/s]"
     ]
    },
    {
     "name": "stdout",
     "output_type": "stream",
     "text": [
      "Epoch  32 , Accuracy:  97.9508 %\n"
     ]
    },
    {
     "name": "stderr",
     "output_type": "stream",
     "text": [
      " 34%|██████████████████████████████████████████████████████████████████████████▌                                                                                                                                                 | 407/1200 [01:10<02:01,  6.52it/s]"
     ]
    },
    {
     "name": "stdout",
     "output_type": "stream",
     "text": [
      "Epoch  33 , Accuracy:  97.9508 %\n"
     ]
    },
    {
     "name": "stderr",
     "output_type": "stream",
     "text": [
      " 35%|████████████████████████████████████████████████████████████████████████████▊                                                                                                                                               | 419/1200 [01:12<02:01,  6.44it/s]"
     ]
    },
    {
     "name": "stdout",
     "output_type": "stream",
     "text": [
      "Epoch  34 , Accuracy:  97.9508 %\n"
     ]
    },
    {
     "name": "stderr",
     "output_type": "stream",
     "text": [
      " 36%|███████████████████████████████████████████████████████████████████████████████                                                                                                                                             | 431/1200 [01:14<01:57,  6.52it/s]"
     ]
    },
    {
     "name": "stdout",
     "output_type": "stream",
     "text": [
      "Epoch  35 , Accuracy:  97.9508 %\n"
     ]
    },
    {
     "name": "stderr",
     "output_type": "stream",
     "text": [
      " 37%|█████████████████████████████████████████████████████████████████████████████████▏                                                                                                                                          | 443/1200 [01:16<01:56,  6.48it/s]"
     ]
    },
    {
     "name": "stdout",
     "output_type": "stream",
     "text": [
      "Epoch  36 , Accuracy:  97.9508 %\n"
     ]
    },
    {
     "name": "stderr",
     "output_type": "stream",
     "text": [
      " 38%|███████████████████████████████████████████████████████████████████████████████████▍                                                                                                                                        | 455/1200 [01:18<01:55,  6.47it/s]"
     ]
    },
    {
     "name": "stdout",
     "output_type": "stream",
     "text": [
      "Epoch  37 , Accuracy:  97.9508 %\n"
     ]
    },
    {
     "name": "stderr",
     "output_type": "stream",
     "text": [
      " 39%|█████████████████████████████████████████████████████████████████████████████████████▌                                                                                                                                      | 467/1200 [01:20<01:51,  6.54it/s]"
     ]
    },
    {
     "name": "stdout",
     "output_type": "stream",
     "text": [
      "Epoch  38 , Accuracy:  97.9508 %\n"
     ]
    },
    {
     "name": "stderr",
     "output_type": "stream",
     "text": [
      " 40%|███████████████████████████████████████████████████████████████████████████████████████▊                                                                                                                                    | 479/1200 [01:22<01:51,  6.44it/s]"
     ]
    },
    {
     "name": "stdout",
     "output_type": "stream",
     "text": [
      "Epoch  39 , Accuracy:  97.9508 %\n"
     ]
    },
    {
     "name": "stderr",
     "output_type": "stream",
     "text": [
      " 41%|██████████████████████████████████████████████████████████████████████████████████████████                                                                                                                                  | 491/1200 [01:25<01:48,  6.54it/s]"
     ]
    },
    {
     "name": "stdout",
     "output_type": "stream",
     "text": [
      "Epoch  40 , Accuracy:  97.9508 %\n"
     ]
    },
    {
     "name": "stderr",
     "output_type": "stream",
     "text": [
      " 42%|████████████████████████████████████████████████████████████████████████████████████████████▏                                                                                                                               | 503/1200 [01:27<01:47,  6.48it/s]"
     ]
    },
    {
     "name": "stdout",
     "output_type": "stream",
     "text": [
      "Epoch  41 , Accuracy:  97.9508 %\n"
     ]
    },
    {
     "name": "stderr",
     "output_type": "stream",
     "text": [
      " 43%|██████████████████████████████████████████████████████████████████████████████████████████████▍                                                                                                                             | 515/1200 [01:29<01:45,  6.47it/s]"
     ]
    },
    {
     "name": "stdout",
     "output_type": "stream",
     "text": [
      "Epoch  42 , Accuracy:  97.9508 %\n"
     ]
    },
    {
     "name": "stderr",
     "output_type": "stream",
     "text": [
      " 44%|████████████████████████████████████████████████████████████████████████████████████████████████▌                                                                                                                           | 527/1200 [01:31<01:44,  6.45it/s]"
     ]
    },
    {
     "name": "stdout",
     "output_type": "stream",
     "text": [
      "Epoch  43 , Accuracy:  97.9508 %\n"
     ]
    },
    {
     "name": "stderr",
     "output_type": "stream",
     "text": [
      " 45%|██████████████████████████████████████████████████████████████████████████████████████████████████▊                                                                                                                         | 539/1200 [01:33<01:42,  6.48it/s]"
     ]
    },
    {
     "name": "stdout",
     "output_type": "stream",
     "text": [
      "Epoch  44 , Accuracy:  97.9508 %\n"
     ]
    },
    {
     "name": "stderr",
     "output_type": "stream",
     "text": [
      " 46%|█████████████████████████████████████████████████████████████████████████████████████████████████████                                                                                                                       | 551/1200 [01:35<01:40,  6.43it/s]"
     ]
    },
    {
     "name": "stdout",
     "output_type": "stream",
     "text": [
      "Epoch  45 , Accuracy:  97.9508 %\n"
     ]
    },
    {
     "name": "stderr",
     "output_type": "stream",
     "text": [
      " 47%|███████████████████████████████████████████████████████████████████████████████████████████████████████▏                                                                                                                    | 563/1200 [01:37<01:38,  6.45it/s]"
     ]
    },
    {
     "name": "stdout",
     "output_type": "stream",
     "text": [
      "Epoch  46 , Accuracy:  97.9508 %\n"
     ]
    },
    {
     "name": "stderr",
     "output_type": "stream",
     "text": [
      " 48%|█████████████████████████████████████████████████████████████████████████████████████████████████████████▍                                                                                                                  | 575/1200 [01:39<01:37,  6.42it/s]"
     ]
    },
    {
     "name": "stdout",
     "output_type": "stream",
     "text": [
      "Epoch  47 , Accuracy:  97.9508 %\n"
     ]
    },
    {
     "name": "stderr",
     "output_type": "stream",
     "text": [
      " 49%|███████████████████████████████████████████████████████████████████████████████████████████████████████████▌                                                                                                                | 587/1200 [01:41<01:34,  6.52it/s]"
     ]
    },
    {
     "name": "stdout",
     "output_type": "stream",
     "text": [
      "Epoch  48 , Accuracy:  97.9508 %\n"
     ]
    },
    {
     "name": "stderr",
     "output_type": "stream",
     "text": [
      " 50%|█████████████████████████████████████████████████████████████████████████████████████████████████████████████▊                                                                                                              | 599/1200 [01:43<01:31,  6.55it/s]"
     ]
    },
    {
     "name": "stdout",
     "output_type": "stream",
     "text": [
      "Epoch  49 , Accuracy:  97.9508 %\n"
     ]
    },
    {
     "name": "stderr",
     "output_type": "stream",
     "text": [
      " 51%|████████████████████████████████████████████████████████████████████████████████████████████████████████████████                                                                                                            | 611/1200 [01:45<01:29,  6.56it/s]"
     ]
    },
    {
     "name": "stdout",
     "output_type": "stream",
     "text": [
      "Epoch  50 , Accuracy:  97.9508 %\n"
     ]
    },
    {
     "name": "stderr",
     "output_type": "stream",
     "text": [
      " 52%|██████████████████████████████████████████████████████████████████████████████████████████████████████████████████▏                                                                                                         | 623/1200 [01:47<01:28,  6.53it/s]"
     ]
    },
    {
     "name": "stdout",
     "output_type": "stream",
     "text": [
      "Epoch  51 , Accuracy:  97.9508 %\n"
     ]
    },
    {
     "name": "stderr",
     "output_type": "stream",
     "text": [
      " 53%|████████████████████████████████████████████████████████████████████████████████████████████████████████████████████▍                                                                                                       | 635/1200 [01:49<01:27,  6.47it/s]"
     ]
    },
    {
     "name": "stdout",
     "output_type": "stream",
     "text": [
      "Epoch  52 , Accuracy:  97.9508 %\n"
     ]
    },
    {
     "name": "stderr",
     "output_type": "stream",
     "text": [
      " 54%|██████████████████████████████████████████████████████████████████████████████████████████████████████████████████████▌                                                                                                     | 647/1200 [01:51<01:25,  6.48it/s]"
     ]
    },
    {
     "name": "stdout",
     "output_type": "stream",
     "text": [
      "Epoch  53 , Accuracy:  97.9508 %\n"
     ]
    },
    {
     "name": "stderr",
     "output_type": "stream",
     "text": [
      " 55%|████████████████████████████████████████████████████████████████████████████████████████████████████████████████████████▊                                                                                                   | 659/1200 [01:53<01:22,  6.53it/s]"
     ]
    },
    {
     "name": "stdout",
     "output_type": "stream",
     "text": [
      "Epoch  54 , Accuracy:  97.9508 %\n"
     ]
    },
    {
     "name": "stderr",
     "output_type": "stream",
     "text": [
      " 56%|███████████████████████████████████████████████████████████████████████████████████████████████████████████████████████████                                                                                                 | 671/1200 [01:55<01:20,  6.57it/s]"
     ]
    },
    {
     "name": "stdout",
     "output_type": "stream",
     "text": [
      "Epoch  55 , Accuracy:  97.9508 %\n"
     ]
    },
    {
     "name": "stderr",
     "output_type": "stream",
     "text": [
      " 57%|█████████████████████████████████████████████████████████████████████████████████████████████████████████████████████████████▏                                                                                              | 683/1200 [01:58<01:18,  6.59it/s]"
     ]
    },
    {
     "name": "stdout",
     "output_type": "stream",
     "text": [
      "Epoch  56 , Accuracy:  97.9508 %\n"
     ]
    },
    {
     "name": "stderr",
     "output_type": "stream",
     "text": [
      " 58%|███████████████████████████████████████████████████████████████████████████████████████████████████████████████████████████████▍                                                                                            | 695/1200 [02:00<01:17,  6.55it/s]"
     ]
    },
    {
     "name": "stdout",
     "output_type": "stream",
     "text": [
      "Epoch  57 , Accuracy:  97.9508 %\n"
     ]
    },
    {
     "name": "stderr",
     "output_type": "stream",
     "text": [
      " 59%|█████████████████████████████████████████████████████████████████████████████████████████████████████████████████████████████████▌                                                                                          | 707/1200 [02:02<01:15,  6.51it/s]"
     ]
    },
    {
     "name": "stdout",
     "output_type": "stream",
     "text": [
      "Epoch  58 , Accuracy:  98.3606 %\n"
     ]
    },
    {
     "name": "stderr",
     "output_type": "stream",
     "text": [
      " 60%|███████████████████████████████████████████████████████████████████████████████████████████████████████████████████████████████████▊                                                                                        | 719/1200 [02:04<01:14,  6.47it/s]"
     ]
    },
    {
     "name": "stdout",
     "output_type": "stream",
     "text": [
      "Epoch  59 , Accuracy:  97.9508 %\n"
     ]
    },
    {
     "name": "stderr",
     "output_type": "stream",
     "text": [
      " 61%|██████████████████████████████████████████████████████████████████████████████████████████████████████████████████████████████████████                                                                                      | 731/1200 [02:06<01:11,  6.57it/s]"
     ]
    },
    {
     "name": "stdout",
     "output_type": "stream",
     "text": [
      "Epoch  60 , Accuracy:  97.9508 %\n"
     ]
    },
    {
     "name": "stderr",
     "output_type": "stream",
     "text": [
      " 62%|████████████████████████████████████████████████████████████████████████████████████████████████████████████████████████████████████████▏                                                                                   | 743/1200 [02:08<01:09,  6.59it/s]"
     ]
    },
    {
     "name": "stdout",
     "output_type": "stream",
     "text": [
      "Epoch  61 , Accuracy:  97.9508 %\n"
     ]
    },
    {
     "name": "stderr",
     "output_type": "stream",
     "text": [
      " 63%|██████████████████████████████████████████████████████████████████████████████████████████████████████████████████████████████████████████▍                                                                                 | 755/1200 [02:10<01:08,  6.50it/s]"
     ]
    },
    {
     "name": "stdout",
     "output_type": "stream",
     "text": [
      "Epoch  62 , Accuracy:  97.9508 %\n"
     ]
    },
    {
     "name": "stderr",
     "output_type": "stream",
     "text": [
      " 64%|████████████████████████████████████████████████████████████████████████████████████████████████████████████████████████████████████████████▌                                                                               | 767/1200 [02:12<01:06,  6.52it/s]"
     ]
    },
    {
     "name": "stdout",
     "output_type": "stream",
     "text": [
      "Epoch  63 , Accuracy:  97.9508 %\n"
     ]
    },
    {
     "name": "stderr",
     "output_type": "stream",
     "text": [
      " 65%|██████████████████████████████████████████████████████████████████████████████████████████████████████████████████████████████████████████████▊                                                                             | 779/1200 [02:14<01:04,  6.52it/s]"
     ]
    },
    {
     "name": "stdout",
     "output_type": "stream",
     "text": [
      "Epoch  64 , Accuracy:  97.9508 %\n"
     ]
    },
    {
     "name": "stderr",
     "output_type": "stream",
     "text": [
      " 66%|█████████████████████████████████████████████████████████████████████████████████████████████████████████████████████████████████████████████████                                                                           | 791/1200 [02:16<01:02,  6.53it/s]"
     ]
    },
    {
     "name": "stdout",
     "output_type": "stream",
     "text": [
      "Epoch  65 , Accuracy:  98.3606 %\n"
     ]
    },
    {
     "name": "stderr",
     "output_type": "stream",
     "text": [
      " 67%|███████████████████████████████████████████████████████████████████████████████████████████████████████████████████████████████████████████████████▏                                                                        | 803/1200 [02:18<01:00,  6.58it/s]"
     ]
    },
    {
     "name": "stdout",
     "output_type": "stream",
     "text": [
      "Epoch  66 , Accuracy:  97.9508 %\n"
     ]
    },
    {
     "name": "stderr",
     "output_type": "stream",
     "text": [
      " 68%|█████████████████████████████████████████████████████████████████████████████████████████████████████████████████████████████████████████████████████▍                                                                      | 815/1200 [02:20<00:59,  6.51it/s]"
     ]
    },
    {
     "name": "stdout",
     "output_type": "stream",
     "text": [
      "Epoch  67 , Accuracy:  98.3606 %\n"
     ]
    },
    {
     "name": "stderr",
     "output_type": "stream",
     "text": [
      " 69%|███████████████████████████████████████████████████████████████████████████████████████████████████████████████████████████████████████████████████████▌                                                                    | 827/1200 [02:22<00:56,  6.55it/s]"
     ]
    },
    {
     "name": "stdout",
     "output_type": "stream",
     "text": [
      "Epoch  68 , Accuracy:  98.3606 %\n"
     ]
    },
    {
     "name": "stderr",
     "output_type": "stream",
     "text": [
      " 70%|█████████████████████████████████████████████████████████████████████████████████████████████████████████████████████████████████████████████████████████▊                                                                  | 839/1200 [02:24<00:55,  6.48it/s]"
     ]
    },
    {
     "name": "stdout",
     "output_type": "stream",
     "text": [
      "Epoch  69 , Accuracy:  98.3606 %\n"
     ]
    },
    {
     "name": "stderr",
     "output_type": "stream",
     "text": [
      " 71%|████████████████████████████████████████████████████████████████████████████████████████████████████████████████████████████████████████████████████████████                                                                | 851/1200 [02:26<00:53,  6.51it/s]"
     ]
    },
    {
     "name": "stdout",
     "output_type": "stream",
     "text": [
      "Epoch  70 , Accuracy:  97.9508 %\n"
     ]
    },
    {
     "name": "stderr",
     "output_type": "stream",
     "text": [
      " 72%|██████████████████████████████████████████████████████████████████████████████████████████████████████████████████████████████████████████████████████████████▏                                                             | 863/1200 [02:28<00:51,  6.54it/s]"
     ]
    },
    {
     "name": "stdout",
     "output_type": "stream",
     "text": [
      "Epoch  71 , Accuracy:  97.9508 %\n"
     ]
    },
    {
     "name": "stderr",
     "output_type": "stream",
     "text": [
      " 73%|████████████████████████████████████████████████████████████████████████████████████████████████████████████████████████████████████████████████████████████████▍                                                           | 875/1200 [02:30<00:49,  6.52it/s]"
     ]
    },
    {
     "name": "stdout",
     "output_type": "stream",
     "text": [
      "Epoch  72 , Accuracy:  98.3607 %\n"
     ]
    },
    {
     "name": "stderr",
     "output_type": "stream",
     "text": [
      " 74%|██████████████████████████████████████████████████████████████████████████████████████████████████████████████████████████████████████████████████████████████████▌                                                         | 887/1200 [02:32<00:47,  6.55it/s]"
     ]
    },
    {
     "name": "stdout",
     "output_type": "stream",
     "text": [
      "Epoch  73 , Accuracy:  98.3606 %\n"
     ]
    },
    {
     "name": "stderr",
     "output_type": "stream",
     "text": [
      " 75%|████████████████████████████████████████████████████████████████████████████████████████████████████████████████████████████████████████████████████████████████████▊                                                       | 899/1200 [02:34<00:45,  6.56it/s]"
     ]
    },
    {
     "name": "stdout",
     "output_type": "stream",
     "text": [
      "Epoch  74 , Accuracy:  98.3607 %\n"
     ]
    },
    {
     "name": "stderr",
     "output_type": "stream",
     "text": [
      " 76%|███████████████████████████████████████████████████████████████████████████████████████████████████████████████████████████████████████████████████████████████████████                                                     | 911/1200 [02:36<00:44,  6.54it/s]"
     ]
    },
    {
     "name": "stdout",
     "output_type": "stream",
     "text": [
      "Epoch  75 , Accuracy:  98.3606 %\n"
     ]
    },
    {
     "name": "stderr",
     "output_type": "stream",
     "text": [
      " 77%|█████████████████████████████████████████████████████████████████████████████████████████████████████████████████████████████████████████████████████████████████████████▏                                                  | 923/1200 [02:39<00:42,  6.55it/s]"
     ]
    },
    {
     "name": "stdout",
     "output_type": "stream",
     "text": [
      "Epoch  76 , Accuracy:  98.3607 %\n"
     ]
    },
    {
     "name": "stderr",
     "output_type": "stream",
     "text": [
      " 78%|███████████████████████████████████████████████████████████████████████████████████████████████████████████████████████████████████████████████████████████████████████████▍                                                | 935/1200 [02:41<00:40,  6.50it/s]"
     ]
    },
    {
     "name": "stdout",
     "output_type": "stream",
     "text": [
      "Epoch  77 , Accuracy:  98.3607 %\n"
     ]
    },
    {
     "name": "stderr",
     "output_type": "stream",
     "text": [
      " 79%|█████████████████████████████████████████████████████████████████████████████████████████████████████████████████████████████████████████████████████████████████████████████▌                                              | 947/1200 [02:43<00:38,  6.53it/s]"
     ]
    },
    {
     "name": "stdout",
     "output_type": "stream",
     "text": [
      "Epoch  78 , Accuracy:  98.3606 %\n"
     ]
    },
    {
     "name": "stderr",
     "output_type": "stream",
     "text": [
      " 80%|███████████████████████████████████████████████████████████████████████████████████████████████████████████████████████████████████████████████████████████████████████████████▊                                            | 959/1200 [02:45<00:36,  6.56it/s]"
     ]
    },
    {
     "name": "stdout",
     "output_type": "stream",
     "text": [
      "Epoch  79 , Accuracy:  98.3606 %\n"
     ]
    },
    {
     "name": "stderr",
     "output_type": "stream",
     "text": [
      " 81%|██████████████████████████████████████████████████████████████████████████████████████████████████████████████████████████████████████████████████████████████████████████████████                                          | 971/1200 [02:47<00:35,  6.53it/s]"
     ]
    },
    {
     "name": "stdout",
     "output_type": "stream",
     "text": [
      "Epoch  80 , Accuracy:  98.3607 %\n"
     ]
    },
    {
     "name": "stderr",
     "output_type": "stream",
     "text": [
      " 82%|████████████████████████████████████████████████████████████████████████████████████████████████████████████████████████████████████████████████████████████████████████████████████▏                                       | 983/1200 [02:49<00:33,  6.55it/s]"
     ]
    },
    {
     "name": "stdout",
     "output_type": "stream",
     "text": [
      "Epoch  81 , Accuracy:  97.9508 %\n"
     ]
    },
    {
     "name": "stderr",
     "output_type": "stream",
     "text": [
      " 83%|██████████████████████████████████████████████████████████████████████████████████████████████████████████████████████████████████████████████████████████████████████████████████████▍                                     | 995/1200 [02:51<00:31,  6.53it/s]"
     ]
    },
    {
     "name": "stdout",
     "output_type": "stream",
     "text": [
      "Epoch  82 , Accuracy:  98.3607 %\n"
     ]
    },
    {
     "name": "stderr",
     "output_type": "stream",
     "text": [
      " 84%|███████████████████████████████████████████████████████████████████████████████████████████████████████████████████████████████████████████████████████████████████████████████████████▊                                   | 1007/1200 [02:53<00:29,  6.57it/s]"
     ]
    },
    {
     "name": "stdout",
     "output_type": "stream",
     "text": [
      "Epoch  83 , Accuracy:  98.3607 %\n"
     ]
    },
    {
     "name": "stderr",
     "output_type": "stream",
     "text": [
      " 85%|█████████████████████████████████████████████████████████████████████████████████████████████████████████████████████████████████████████████████████████████████████████████████████████▉                                 | 1019/1200 [02:55<00:27,  6.51it/s]"
     ]
    },
    {
     "name": "stdout",
     "output_type": "stream",
     "text": [
      "Epoch  84 , Accuracy:  98.3607 %\n"
     ]
    },
    {
     "name": "stderr",
     "output_type": "stream",
     "text": [
      " 86%|████████████████████████████████████████████████████████████████████████████████████████████████████████████████████████████████████████████████████████████████████████████████████████████▏                              | 1031/1200 [02:57<00:25,  6.51it/s]"
     ]
    },
    {
     "name": "stdout",
     "output_type": "stream",
     "text": [
      "Epoch  85 , Accuracy:  98.3607 %\n"
     ]
    },
    {
     "name": "stderr",
     "output_type": "stream",
     "text": [
      " 87%|██████████████████████████████████████████████████████████████████████████████████████████████████████████████████████████████████████████████████████████████████████████████████████████████▎                            | 1043/1200 [02:59<00:24,  6.54it/s]"
     ]
    },
    {
     "name": "stdout",
     "output_type": "stream",
     "text": [
      "Epoch  86 , Accuracy:  98.3607 %\n"
     ]
    },
    {
     "name": "stderr",
     "output_type": "stream",
     "text": [
      " 88%|████████████████████████████████████████████████████████████████████████████████████████████████████████████████████████████████████████████████████████████████████████████████████████████████▌                          | 1055/1200 [03:01<00:22,  6.54it/s]"
     ]
    },
    {
     "name": "stdout",
     "output_type": "stream",
     "text": [
      "Epoch  87 , Accuracy:  98.3607 %\n"
     ]
    },
    {
     "name": "stderr",
     "output_type": "stream",
     "text": [
      " 89%|██████████████████████████████████████████████████████████████████████████████████████████████████████████████████████████████████████████████████████████████████████████████████████████████████▋                        | 1067/1200 [03:03<00:20,  6.52it/s]"
     ]
    },
    {
     "name": "stdout",
     "output_type": "stream",
     "text": [
      "Epoch  88 , Accuracy:  98.3607 %\n"
     ]
    },
    {
     "name": "stderr",
     "output_type": "stream",
     "text": [
      " 90%|████████████████████████████████████████████████████████████████████████████████████████████████████████████████████████████████████████████████████████████████████████████████████████████████████▉                      | 1079/1200 [03:05<00:18,  6.49it/s]"
     ]
    },
    {
     "name": "stdout",
     "output_type": "stream",
     "text": [
      "Epoch  89 , Accuracy:  98.3607 %\n"
     ]
    },
    {
     "name": "stderr",
     "output_type": "stream",
     "text": [
      " 91%|███████████████████████████████████████████████████████████████████████████████████████████████████████████████████████████████████████████████████████████████████████████████████████████████████████                    | 1091/1200 [03:07<00:16,  6.53it/s]"
     ]
    },
    {
     "name": "stdout",
     "output_type": "stream",
     "text": [
      "Epoch  90 , Accuracy:  97.9508 %\n"
     ]
    },
    {
     "name": "stderr",
     "output_type": "stream",
     "text": [
      " 92%|█████████████████████████████████████████████████████████████████████████████████████████████████████████████████████████████████████████████████████████████████████████████████████████████████████████▎                 | 1103/1200 [03:09<00:14,  6.52it/s]"
     ]
    },
    {
     "name": "stdout",
     "output_type": "stream",
     "text": [
      "Epoch  91 , Accuracy:  98.3607 %\n"
     ]
    },
    {
     "name": "stderr",
     "output_type": "stream",
     "text": [
      " 93%|███████████████████████████████████████████████████████████████████████████████████████████████████████████████████████████████████████████████████████████████████████████████████████████████████████████▍               | 1115/1200 [03:11<00:13,  6.48it/s]"
     ]
    },
    {
     "name": "stdout",
     "output_type": "stream",
     "text": [
      "Epoch  92 , Accuracy:  98.3607 %\n"
     ]
    },
    {
     "name": "stderr",
     "output_type": "stream",
     "text": [
      " 94%|█████████████████████████████████████████████████████████████████████████████████████████████████████████████████████████████████████████████████████████████████████████████████████████████████████████████▋             | 1127/1200 [03:13<00:11,  6.50it/s]"
     ]
    },
    {
     "name": "stdout",
     "output_type": "stream",
     "text": [
      "Epoch  93 , Accuracy:  98.3606 %\n"
     ]
    },
    {
     "name": "stderr",
     "output_type": "stream",
     "text": [
      " 95%|███████████████████████████████████████████████████████████████████████████████████████████████████████████████████████████████████████████████████████████████████████████████████████████████████████████████▊           | 1139/1200 [03:15<00:09,  6.47it/s]"
     ]
    },
    {
     "name": "stdout",
     "output_type": "stream",
     "text": [
      "Epoch  94 , Accuracy:  98.3606 %\n"
     ]
    },
    {
     "name": "stderr",
     "output_type": "stream",
     "text": [
      " 96%|██████████████████████████████████████████████████████████████████████████████████████████████████████████████████████████████████████████████████████████████████████████████████████████████████████████████████         | 1151/1200 [03:18<00:07,  6.50it/s]"
     ]
    },
    {
     "name": "stdout",
     "output_type": "stream",
     "text": [
      "Epoch  95 , Accuracy:  98.3607 %\n"
     ]
    },
    {
     "name": "stderr",
     "output_type": "stream",
     "text": [
      " 97%|████████████████████████████████████████████████████████████████████████████████████████████████████████████████████████████████████████████████████████████████████████████████████████████████████████████████████▏      | 1163/1200 [03:20<00:05,  6.54it/s]"
     ]
    },
    {
     "name": "stdout",
     "output_type": "stream",
     "text": [
      "Epoch  96 , Accuracy:  98.3607 %\n"
     ]
    },
    {
     "name": "stderr",
     "output_type": "stream",
     "text": [
      " 98%|██████████████████████████████████████████████████████████████████████████████████████████████████████████████████████████████████████████████████████████████████████████████████████████████████████████████████████▍    | 1175/1200 [03:22<00:03,  6.49it/s]"
     ]
    },
    {
     "name": "stdout",
     "output_type": "stream",
     "text": [
      "Epoch  97 , Accuracy:  98.3606 %\n"
     ]
    },
    {
     "name": "stderr",
     "output_type": "stream",
     "text": [
      " 99%|████████████████████████████████████████████████████████████████████████████████████████████████████████████████████████████████████████████████████████████████████████████████████████████████████████████████████████▋  | 1187/1200 [03:24<00:01,  6.51it/s]"
     ]
    },
    {
     "name": "stdout",
     "output_type": "stream",
     "text": [
      "Epoch  98 , Accuracy:  98.3607 %\n"
     ]
    },
    {
     "name": "stderr",
     "output_type": "stream",
     "text": [
      "100%|██████████████████████████████████████████████████████████████████████████████████████████████████████████████████████████████████████████████████████████████████████████████████████████████████████████████████████████▊| 1199/1200 [03:26<00:00,  6.55it/s]"
     ]
    },
    {
     "name": "stdout",
     "output_type": "stream",
     "text": [
      "Epoch  99 , Accuracy:  98.3607 %\n"
     ]
    },
    {
     "name": "stderr",
     "output_type": "stream",
     "text": [
      "100%|███████████████████████████████████████████████████████████████████████████████████████████████████████████████████████████████████████████████████████████████████████████████████████████████████████████████████████████| 1200/1200 [03:26<00:00,  4.90it/s]\n"
     ]
    },
    {
     "name": "stdout",
     "output_type": "stream",
     "text": [
      "Final Accuracy:  100.0 %\n",
      "Final Accuracy:  100.0 %\n",
      "validation accuracy: 100.0\n",
      "Precision 1.0\n",
      "Recall 1.0\n",
      "f1_score 1.0\n",
      "confusion_matrix\n",
      "[[ 23   0]\n",
      " [  0 221]]\n",
      "(730, 2)\n",
      "(730, 20207)\n",
      "===  Starting Session ===\n",
      "session started\n",
      "=== Training ===\n",
      "Initial Accuracy:  81.5574 %\n"
     ]
    },
    {
     "name": "stderr",
     "output_type": "stream",
     "text": [
      "  1%|██                                                                                                                                                                                                                           | 11/1200 [00:02<03:23,  5.83it/s]"
     ]
    },
    {
     "name": "stdout",
     "output_type": "stream",
     "text": [
      "Epoch  0 , Accuracy:  45.4918 %\n"
     ]
    },
    {
     "name": "stderr",
     "output_type": "stream",
     "text": [
      "  2%|████▏                                                                                                                                                                                                                        | 23/1200 [00:04<03:00,  6.53it/s]"
     ]
    },
    {
     "name": "stdout",
     "output_type": "stream",
     "text": [
      "Epoch  1 , Accuracy:  65.5738 %\n"
     ]
    },
    {
     "name": "stderr",
     "output_type": "stream",
     "text": [
      "  3%|██████▍                                                                                                                                                                                                                      | 35/1200 [00:06<03:00,  6.46it/s]"
     ]
    },
    {
     "name": "stdout",
     "output_type": "stream",
     "text": [
      "Epoch  2 , Accuracy:  65.9836 %\n"
     ]
    },
    {
     "name": "stderr",
     "output_type": "stream",
     "text": [
      "  4%|████████▋                                                                                                                                                                                                                    | 47/1200 [00:08<02:57,  6.51it/s]"
     ]
    },
    {
     "name": "stdout",
     "output_type": "stream",
     "text": [
      "Epoch  3 , Accuracy:  70.4918 %\n"
     ]
    },
    {
     "name": "stderr",
     "output_type": "stream",
     "text": [
      "  5%|██████████▊                                                                                                                                                                                                                  | 59/1200 [00:10<02:54,  6.55it/s]"
     ]
    },
    {
     "name": "stdout",
     "output_type": "stream",
     "text": [
      "Epoch  4 , Accuracy:  79.918 %\n"
     ]
    },
    {
     "name": "stderr",
     "output_type": "stream",
     "text": [
      "  6%|█████████████                                                                                                                                                                                                                | 71/1200 [00:12<02:53,  6.50it/s]"
     ]
    },
    {
     "name": "stdout",
     "output_type": "stream",
     "text": [
      "Epoch  5 , Accuracy:  84.0164 %\n"
     ]
    },
    {
     "name": "stderr",
     "output_type": "stream",
     "text": [
      "  7%|███████████████▎                                                                                                                                                                                                             | 83/1200 [00:14<02:52,  6.49it/s]"
     ]
    },
    {
     "name": "stdout",
     "output_type": "stream",
     "text": [
      "Epoch  6 , Accuracy:  86.8852 %\n"
     ]
    },
    {
     "name": "stderr",
     "output_type": "stream",
     "text": [
      "  8%|█████████████████▍                                                                                                                                                                                                           | 95/1200 [00:16<02:49,  6.54it/s]"
     ]
    },
    {
     "name": "stdout",
     "output_type": "stream",
     "text": [
      "Epoch  7 , Accuracy:  88.5246 %\n"
     ]
    },
    {
     "name": "stderr",
     "output_type": "stream",
     "text": [
      "  9%|███████████████████▌                                                                                                                                                                                                        | 107/1200 [00:18<02:47,  6.52it/s]"
     ]
    },
    {
     "name": "stdout",
     "output_type": "stream",
     "text": [
      "Epoch  8 , Accuracy:  90.9836 %\n"
     ]
    },
    {
     "name": "stderr",
     "output_type": "stream",
     "text": [
      " 10%|█████████████████████▊                                                                                                                                                                                                      | 119/1200 [00:20<02:44,  6.57it/s]"
     ]
    },
    {
     "name": "stdout",
     "output_type": "stream",
     "text": [
      "Epoch  9 , Accuracy:  90.9836 %\n"
     ]
    },
    {
     "name": "stderr",
     "output_type": "stream",
     "text": [
      " 11%|████████████████████████                                                                                                                                                                                                    | 131/1200 [00:22<02:44,  6.52it/s]"
     ]
    },
    {
     "name": "stdout",
     "output_type": "stream",
     "text": [
      "Epoch  10 , Accuracy:  91.8033 %\n"
     ]
    },
    {
     "name": "stderr",
     "output_type": "stream",
     "text": [
      " 12%|██████████████████████████▏                                                                                                                                                                                                 | 143/1200 [00:24<02:42,  6.52it/s]"
     ]
    },
    {
     "name": "stdout",
     "output_type": "stream",
     "text": [
      "Epoch  11 , Accuracy:  93.0328 %\n"
     ]
    },
    {
     "name": "stderr",
     "output_type": "stream",
     "text": [
      " 13%|████████████████████████████▍                                                                                                                                                                                               | 155/1200 [00:27<02:40,  6.50it/s]"
     ]
    },
    {
     "name": "stdout",
     "output_type": "stream",
     "text": [
      "Epoch  12 , Accuracy:  91.8033 %\n"
     ]
    },
    {
     "name": "stderr",
     "output_type": "stream",
     "text": [
      " 14%|██████████████████████████████▌                                                                                                                                                                                             | 167/1200 [00:29<02:39,  6.48it/s]"
     ]
    },
    {
     "name": "stdout",
     "output_type": "stream",
     "text": [
      "Epoch  13 , Accuracy:  93.8524 %\n"
     ]
    },
    {
     "name": "stderr",
     "output_type": "stream",
     "text": [
      " 15%|████████████████████████████████▊                                                                                                                                                                                           | 179/1200 [00:31<02:35,  6.54it/s]"
     ]
    },
    {
     "name": "stdout",
     "output_type": "stream",
     "text": [
      "Epoch  14 , Accuracy:  96.3115 %\n"
     ]
    },
    {
     "name": "stderr",
     "output_type": "stream",
     "text": [
      " 16%|███████████████████████████████████                                                                                                                                                                                         | 191/1200 [00:33<02:34,  6.53it/s]"
     ]
    },
    {
     "name": "stdout",
     "output_type": "stream",
     "text": [
      "Epoch  15 , Accuracy:  94.2623 %\n"
     ]
    },
    {
     "name": "stderr",
     "output_type": "stream",
     "text": [
      " 17%|█████████████████████████████████████▏                                                                                                                                                                                      | 203/1200 [00:35<02:31,  6.56it/s]"
     ]
    },
    {
     "name": "stdout",
     "output_type": "stream",
     "text": [
      "Epoch  16 , Accuracy:  95.4918 %\n"
     ]
    },
    {
     "name": "stderr",
     "output_type": "stream",
     "text": [
      " 18%|███████████████████████████████████████▍                                                                                                                                                                                    | 215/1200 [00:37<02:31,  6.51it/s]"
     ]
    },
    {
     "name": "stdout",
     "output_type": "stream",
     "text": [
      "Epoch  17 , Accuracy:  96.7213 %\n"
     ]
    },
    {
     "name": "stderr",
     "output_type": "stream",
     "text": [
      " 19%|█████████████████████████████████████████▌                                                                                                                                                                                  | 227/1200 [00:39<02:28,  6.53it/s]"
     ]
    },
    {
     "name": "stdout",
     "output_type": "stream",
     "text": [
      "Epoch  18 , Accuracy:  96.7213 %\n"
     ]
    },
    {
     "name": "stderr",
     "output_type": "stream",
     "text": [
      " 20%|███████████████████████████████████████████▊                                                                                                                                                                                | 239/1200 [00:41<02:27,  6.52it/s]"
     ]
    },
    {
     "name": "stdout",
     "output_type": "stream",
     "text": [
      "Epoch  19 , Accuracy:  96.3115 %\n"
     ]
    },
    {
     "name": "stderr",
     "output_type": "stream",
     "text": [
      " 21%|██████████████████████████████████████████████                                                                                                                                                                              | 251/1200 [00:43<02:25,  6.53it/s]"
     ]
    },
    {
     "name": "stdout",
     "output_type": "stream",
     "text": [
      "Epoch  20 , Accuracy:  95.9016 %\n"
     ]
    },
    {
     "name": "stderr",
     "output_type": "stream",
     "text": [
      " 22%|████████████████████████████████████████████████▏                                                                                                                                                                           | 263/1200 [00:45<02:23,  6.52it/s]"
     ]
    },
    {
     "name": "stdout",
     "output_type": "stream",
     "text": [
      "Epoch  21 , Accuracy:  97.1311 %\n"
     ]
    },
    {
     "name": "stderr",
     "output_type": "stream",
     "text": [
      " 23%|██████████████████████████████████████████████████▍                                                                                                                                                                         | 275/1200 [00:47<02:22,  6.47it/s]"
     ]
    },
    {
     "name": "stdout",
     "output_type": "stream",
     "text": [
      "Epoch  22 , Accuracy:  97.1311 %\n"
     ]
    },
    {
     "name": "stderr",
     "output_type": "stream",
     "text": [
      " 24%|████████████████████████████████████████████████████▌                                                                                                                                                                       | 287/1200 [00:49<02:18,  6.57it/s]"
     ]
    },
    {
     "name": "stdout",
     "output_type": "stream",
     "text": [
      "Epoch  23 , Accuracy:  95.9016 %\n"
     ]
    },
    {
     "name": "stderr",
     "output_type": "stream",
     "text": [
      " 25%|██████████████████████████████████████████████████████▊                                                                                                                                                                     | 299/1200 [00:51<02:19,  6.46it/s]"
     ]
    },
    {
     "name": "stdout",
     "output_type": "stream",
     "text": [
      "Epoch  24 , Accuracy:  97.541 %\n"
     ]
    },
    {
     "name": "stderr",
     "output_type": "stream",
     "text": [
      " 26%|█████████████████████████████████████████████████████████                                                                                                                                                                   | 311/1200 [00:53<02:16,  6.51it/s]"
     ]
    },
    {
     "name": "stdout",
     "output_type": "stream",
     "text": [
      "Epoch  25 , Accuracy:  97.1311 %\n"
     ]
    },
    {
     "name": "stderr",
     "output_type": "stream",
     "text": [
      " 27%|███████████████████████████████████████████████████████████▏                                                                                                                                                                | 323/1200 [00:55<02:14,  6.50it/s]"
     ]
    },
    {
     "name": "stdout",
     "output_type": "stream",
     "text": [
      "Epoch  26 , Accuracy:  97.1311 %\n"
     ]
    },
    {
     "name": "stderr",
     "output_type": "stream",
     "text": [
      " 28%|█████████████████████████████████████████████████████████████▍                                                                                                                                                              | 335/1200 [00:57<02:13,  6.50it/s]"
     ]
    },
    {
     "name": "stdout",
     "output_type": "stream",
     "text": [
      "Epoch  27 , Accuracy:  97.541 %\n"
     ]
    },
    {
     "name": "stderr",
     "output_type": "stream",
     "text": [
      " 29%|███████████████████████████████████████████████████████████████▌                                                                                                                                                            | 347/1200 [00:59<02:10,  6.53it/s]"
     ]
    },
    {
     "name": "stdout",
     "output_type": "stream",
     "text": [
      "Epoch  28 , Accuracy:  97.1311 %\n"
     ]
    },
    {
     "name": "stderr",
     "output_type": "stream",
     "text": [
      " 30%|█████████████████████████████████████████████████████████████████▊                                                                                                                                                          | 359/1200 [01:02<02:50,  4.94it/s]"
     ]
    },
    {
     "name": "stdout",
     "output_type": "stream",
     "text": [
      "Epoch  29 , Accuracy:  96.7213 %\n"
     ]
    },
    {
     "name": "stderr",
     "output_type": "stream",
     "text": [
      " 31%|████████████████████████████████████████████████████████████████████                                                                                                                                                        | 371/1200 [01:04<02:11,  6.30it/s]"
     ]
    },
    {
     "name": "stdout",
     "output_type": "stream",
     "text": [
      "Epoch  30 , Accuracy:  96.7213 %\n"
     ]
    },
    {
     "name": "stderr",
     "output_type": "stream",
     "text": [
      " 32%|██████████████████████████████████████████████████████████████████████▏                                                                                                                                                     | 383/1200 [01:06<02:05,  6.53it/s]"
     ]
    },
    {
     "name": "stdout",
     "output_type": "stream",
     "text": [
      "Epoch  31 , Accuracy:  96.7213 %\n"
     ]
    },
    {
     "name": "stderr",
     "output_type": "stream",
     "text": [
      " 33%|████████████████████████████████████████████████████████████████████████▍                                                                                                                                                   | 395/1200 [01:08<02:01,  6.65it/s]"
     ]
    },
    {
     "name": "stdout",
     "output_type": "stream",
     "text": [
      "Epoch  32 , Accuracy:  96.7213 %\n"
     ]
    },
    {
     "name": "stderr",
     "output_type": "stream",
     "text": [
      " 34%|██████████████████████████████████████████████████████████████████████████▌                                                                                                                                                 | 407/1200 [01:10<01:59,  6.61it/s]"
     ]
    },
    {
     "name": "stdout",
     "output_type": "stream",
     "text": [
      "Epoch  33 , Accuracy:  97.1311 %\n"
     ]
    },
    {
     "name": "stderr",
     "output_type": "stream",
     "text": [
      " 35%|████████████████████████████████████████████████████████████████████████████▊                                                                                                                                               | 419/1200 [01:12<01:59,  6.56it/s]"
     ]
    },
    {
     "name": "stdout",
     "output_type": "stream",
     "text": [
      "Epoch  34 , Accuracy:  96.7213 %\n"
     ]
    },
    {
     "name": "stderr",
     "output_type": "stream",
     "text": [
      " 36%|███████████████████████████████████████████████████████████████████████████████                                                                                                                                             | 431/1200 [01:14<01:56,  6.59it/s]"
     ]
    },
    {
     "name": "stdout",
     "output_type": "stream",
     "text": [
      "Epoch  35 , Accuracy:  97.541 %\n"
     ]
    },
    {
     "name": "stderr",
     "output_type": "stream",
     "text": [
      " 37%|█████████████████████████████████████████████████████████████████████████████████▏                                                                                                                                          | 443/1200 [01:16<01:54,  6.59it/s]"
     ]
    },
    {
     "name": "stdout",
     "output_type": "stream",
     "text": [
      "Epoch  36 , Accuracy:  96.7213 %\n"
     ]
    },
    {
     "name": "stderr",
     "output_type": "stream",
     "text": [
      " 38%|███████████████████████████████████████████████████████████████████████████████████▍                                                                                                                                        | 455/1200 [01:18<01:53,  6.59it/s]"
     ]
    },
    {
     "name": "stdout",
     "output_type": "stream",
     "text": [
      "Epoch  37 , Accuracy:  97.1311 %\n"
     ]
    },
    {
     "name": "stderr",
     "output_type": "stream",
     "text": [
      " 39%|█████████████████████████████████████████████████████████████████████████████████████▌                                                                                                                                      | 467/1200 [01:20<01:51,  6.58it/s]"
     ]
    },
    {
     "name": "stdout",
     "output_type": "stream",
     "text": [
      "Epoch  38 , Accuracy:  96.3115 %\n"
     ]
    },
    {
     "name": "stderr",
     "output_type": "stream",
     "text": [
      " 40%|███████████████████████████████████████████████████████████████████████████████████████▊                                                                                                                                    | 479/1200 [01:22<01:48,  6.62it/s]"
     ]
    },
    {
     "name": "stdout",
     "output_type": "stream",
     "text": [
      "Epoch  39 , Accuracy:  97.1311 %\n"
     ]
    },
    {
     "name": "stderr",
     "output_type": "stream",
     "text": [
      " 41%|██████████████████████████████████████████████████████████████████████████████████████████                                                                                                                                  | 491/1200 [01:24<01:48,  6.56it/s]"
     ]
    },
    {
     "name": "stdout",
     "output_type": "stream",
     "text": [
      "Epoch  40 , Accuracy:  97.1311 %\n"
     ]
    },
    {
     "name": "stderr",
     "output_type": "stream",
     "text": [
      " 42%|████████████████████████████████████████████████████████████████████████████████████████████▏                                                                                                                               | 503/1200 [01:26<01:46,  6.54it/s]"
     ]
    },
    {
     "name": "stdout",
     "output_type": "stream",
     "text": [
      "Epoch  41 , Accuracy:  97.1311 %\n"
     ]
    },
    {
     "name": "stderr",
     "output_type": "stream",
     "text": [
      " 43%|██████████████████████████████████████████████████████████████████████████████████████████████▍                                                                                                                             | 515/1200 [01:28<01:43,  6.61it/s]"
     ]
    },
    {
     "name": "stdout",
     "output_type": "stream",
     "text": [
      "Epoch  42 , Accuracy:  96.7213 %\n"
     ]
    },
    {
     "name": "stderr",
     "output_type": "stream",
     "text": [
      " 44%|████████████████████████████████████████████████████████████████████████████████████████████████▌                                                                                                                           | 527/1200 [01:30<01:42,  6.60it/s]"
     ]
    },
    {
     "name": "stdout",
     "output_type": "stream",
     "text": [
      "Epoch  43 , Accuracy:  97.1311 %\n"
     ]
    },
    {
     "name": "stderr",
     "output_type": "stream",
     "text": [
      " 45%|██████████████████████████████████████████████████████████████████████████████████████████████████▊                                                                                                                         | 539/1200 [01:32<01:39,  6.61it/s]"
     ]
    },
    {
     "name": "stdout",
     "output_type": "stream",
     "text": [
      "Epoch  44 , Accuracy:  97.1311 %\n"
     ]
    },
    {
     "name": "stderr",
     "output_type": "stream",
     "text": [
      " 46%|█████████████████████████████████████████████████████████████████████████████████████████████████████                                                                                                                       | 551/1200 [01:34<01:38,  6.57it/s]"
     ]
    },
    {
     "name": "stdout",
     "output_type": "stream",
     "text": [
      "Epoch  45 , Accuracy:  97.1311 %\n"
     ]
    },
    {
     "name": "stderr",
     "output_type": "stream",
     "text": [
      " 47%|███████████████████████████████████████████████████████████████████████████████████████████████████████▏                                                                                                                    | 563/1200 [01:36<01:36,  6.61it/s]"
     ]
    },
    {
     "name": "stdout",
     "output_type": "stream",
     "text": [
      "Epoch  46 , Accuracy:  97.1311 %\n"
     ]
    },
    {
     "name": "stderr",
     "output_type": "stream",
     "text": [
      " 48%|█████████████████████████████████████████████████████████████████████████████████████████████████████████▍                                                                                                                  | 575/1200 [01:38<01:33,  6.65it/s]"
     ]
    },
    {
     "name": "stdout",
     "output_type": "stream",
     "text": [
      "Epoch  47 , Accuracy:  97.541 %\n"
     ]
    },
    {
     "name": "stderr",
     "output_type": "stream",
     "text": [
      " 49%|███████████████████████████████████████████████████████████████████████████████████████████████████████████▌                                                                                                                | 587/1200 [01:40<01:32,  6.62it/s]"
     ]
    },
    {
     "name": "stdout",
     "output_type": "stream",
     "text": [
      "Epoch  48 , Accuracy:  97.541 %\n"
     ]
    },
    {
     "name": "stderr",
     "output_type": "stream",
     "text": [
      " 50%|█████████████████████████████████████████████████████████████████████████████████████████████████████████████▊                                                                                                              | 599/1200 [01:42<01:31,  6.58it/s]"
     ]
    },
    {
     "name": "stdout",
     "output_type": "stream",
     "text": [
      "Epoch  49 , Accuracy:  97.1311 %\n"
     ]
    },
    {
     "name": "stderr",
     "output_type": "stream",
     "text": [
      " 51%|████████████████████████████████████████████████████████████████████████████████████████████████████████████████                                                                                                            | 611/1200 [01:44<01:28,  6.63it/s]"
     ]
    },
    {
     "name": "stdout",
     "output_type": "stream",
     "text": [
      "Epoch  50 , Accuracy:  96.3115 %\n"
     ]
    },
    {
     "name": "stderr",
     "output_type": "stream",
     "text": [
      " 52%|██████████████████████████████████████████████████████████████████████████████████████████████████████████████████▏                                                                                                         | 623/1200 [01:46<01:27,  6.60it/s]"
     ]
    },
    {
     "name": "stdout",
     "output_type": "stream",
     "text": [
      "Epoch  51 , Accuracy:  96.7213 %\n"
     ]
    },
    {
     "name": "stderr",
     "output_type": "stream",
     "text": [
      " 53%|████████████████████████████████████████████████████████████████████████████████████████████████████████████████████▍                                                                                                       | 635/1200 [01:48<01:25,  6.57it/s]"
     ]
    },
    {
     "name": "stdout",
     "output_type": "stream",
     "text": [
      "Epoch  52 , Accuracy:  97.1311 %\n"
     ]
    },
    {
     "name": "stderr",
     "output_type": "stream",
     "text": [
      " 54%|██████████████████████████████████████████████████████████████████████████████████████████████████████████████████████▌                                                                                                     | 647/1200 [01:50<01:24,  6.57it/s]"
     ]
    },
    {
     "name": "stdout",
     "output_type": "stream",
     "text": [
      "Epoch  53 , Accuracy:  97.9508 %\n"
     ]
    },
    {
     "name": "stderr",
     "output_type": "stream",
     "text": [
      " 55%|████████████████████████████████████████████████████████████████████████████████████████████████████████████████████████▊                                                                                                   | 659/1200 [01:52<01:22,  6.59it/s]"
     ]
    },
    {
     "name": "stdout",
     "output_type": "stream",
     "text": [
      "Epoch  54 , Accuracy:  96.7213 %\n"
     ]
    },
    {
     "name": "stderr",
     "output_type": "stream",
     "text": [
      " 56%|███████████████████████████████████████████████████████████████████████████████████████████████████████████████████████████                                                                                                 | 671/1200 [01:54<01:20,  6.56it/s]"
     ]
    },
    {
     "name": "stdout",
     "output_type": "stream",
     "text": [
      "Epoch  55 , Accuracy:  96.7213 %\n"
     ]
    },
    {
     "name": "stderr",
     "output_type": "stream",
     "text": [
      " 57%|█████████████████████████████████████████████████████████████████████████████████████████████████████████████████████████████▏                                                                                              | 683/1200 [01:57<01:18,  6.60it/s]"
     ]
    },
    {
     "name": "stdout",
     "output_type": "stream",
     "text": [
      "Epoch  56 , Accuracy:  97.541 %\n"
     ]
    },
    {
     "name": "stderr",
     "output_type": "stream",
     "text": [
      " 58%|███████████████████████████████████████████████████████████████████████████████████████████████████████████████████████████████▍                                                                                            | 695/1200 [01:59<01:16,  6.61it/s]"
     ]
    },
    {
     "name": "stdout",
     "output_type": "stream",
     "text": [
      "Epoch  57 , Accuracy:  97.1311 %\n"
     ]
    },
    {
     "name": "stderr",
     "output_type": "stream",
     "text": [
      " 59%|█████████████████████████████████████████████████████████████████████████████████████████████████████████████████████████████████▌                                                                                          | 707/1200 [02:01<01:14,  6.58it/s]"
     ]
    },
    {
     "name": "stdout",
     "output_type": "stream",
     "text": [
      "Epoch  58 , Accuracy:  97.1311 %\n"
     ]
    },
    {
     "name": "stderr",
     "output_type": "stream",
     "text": [
      " 60%|███████████████████████████████████████████████████████████████████████████████████████████████████████████████████████████████████▊                                                                                        | 719/1200 [02:03<01:13,  6.54it/s]"
     ]
    },
    {
     "name": "stdout",
     "output_type": "stream",
     "text": [
      "Epoch  59 , Accuracy:  97.1311 %\n"
     ]
    },
    {
     "name": "stderr",
     "output_type": "stream",
     "text": [
      " 61%|██████████████████████████████████████████████████████████████████████████████████████████████████████████████████████████████████████                                                                                      | 731/1200 [02:05<01:11,  6.54it/s]"
     ]
    },
    {
     "name": "stdout",
     "output_type": "stream",
     "text": [
      "Epoch  60 , Accuracy:  97.541 %\n"
     ]
    },
    {
     "name": "stderr",
     "output_type": "stream",
     "text": [
      " 62%|████████████████████████████████████████████████████████████████████████████████████████████████████████████████████████████████████████▏                                                                                   | 743/1200 [02:07<01:09,  6.57it/s]"
     ]
    },
    {
     "name": "stdout",
     "output_type": "stream",
     "text": [
      "Epoch  61 , Accuracy:  97.541 %\n"
     ]
    },
    {
     "name": "stderr",
     "output_type": "stream",
     "text": [
      " 63%|██████████████████████████████████████████████████████████████████████████████████████████████████████████████████████████████████████████▍                                                                                 | 755/1200 [02:09<01:07,  6.57it/s]"
     ]
    },
    {
     "name": "stdout",
     "output_type": "stream",
     "text": [
      "Epoch  62 , Accuracy:  97.9508 %\n"
     ]
    },
    {
     "name": "stderr",
     "output_type": "stream",
     "text": [
      " 64%|████████████████████████████████████████████████████████████████████████████████████████████████████████████████████████████████████████████▌                                                                               | 767/1200 [02:11<01:05,  6.62it/s]"
     ]
    },
    {
     "name": "stdout",
     "output_type": "stream",
     "text": [
      "Epoch  63 , Accuracy:  96.7213 %\n"
     ]
    },
    {
     "name": "stderr",
     "output_type": "stream",
     "text": [
      " 65%|██████████████████████████████████████████████████████████████████████████████████████████████████████████████████████████████████████████████▊                                                                             | 779/1200 [02:13<01:04,  6.56it/s]"
     ]
    },
    {
     "name": "stdout",
     "output_type": "stream",
     "text": [
      "Epoch  64 , Accuracy:  97.1311 %\n"
     ]
    },
    {
     "name": "stderr",
     "output_type": "stream",
     "text": [
      " 66%|█████████████████████████████████████████████████████████████████████████████████████████████████████████████████████████████████████████████████                                                                           | 791/1200 [02:15<01:01,  6.61it/s]"
     ]
    },
    {
     "name": "stdout",
     "output_type": "stream",
     "text": [
      "Epoch  65 , Accuracy:  97.541 %\n"
     ]
    },
    {
     "name": "stderr",
     "output_type": "stream",
     "text": [
      " 67%|███████████████████████████████████████████████████████████████████████████████████████████████████████████████████████████████████████████████████▏                                                                        | 803/1200 [02:17<01:00,  6.58it/s]"
     ]
    },
    {
     "name": "stdout",
     "output_type": "stream",
     "text": [
      "Epoch  66 , Accuracy:  97.1311 %\n"
     ]
    },
    {
     "name": "stderr",
     "output_type": "stream",
     "text": [
      " 68%|█████████████████████████████████████████████████████████████████████████████████████████████████████████████████████████████████████████████████████▍                                                                      | 815/1200 [02:19<00:58,  6.57it/s]"
     ]
    },
    {
     "name": "stdout",
     "output_type": "stream",
     "text": [
      "Epoch  67 , Accuracy:  97.1311 %\n"
     ]
    },
    {
     "name": "stderr",
     "output_type": "stream",
     "text": [
      " 69%|███████████████████████████████████████████████████████████████████████████████████████████████████████████████████████████████████████████████████████▌                                                                    | 827/1200 [02:21<00:56,  6.57it/s]"
     ]
    },
    {
     "name": "stdout",
     "output_type": "stream",
     "text": [
      "Epoch  68 , Accuracy:  97.1311 %\n"
     ]
    },
    {
     "name": "stderr",
     "output_type": "stream",
     "text": [
      " 70%|█████████████████████████████████████████████████████████████████████████████████████████████████████████████████████████████████████████████████████████▊                                                                  | 839/1200 [02:23<00:55,  6.56it/s]"
     ]
    },
    {
     "name": "stdout",
     "output_type": "stream",
     "text": [
      "Epoch  69 , Accuracy:  96.7213 %\n"
     ]
    },
    {
     "name": "stderr",
     "output_type": "stream",
     "text": [
      " 71%|████████████████████████████████████████████████████████████████████████████████████████████████████████████████████████████████████████████████████████████                                                                | 851/1200 [02:25<00:53,  6.57it/s]"
     ]
    },
    {
     "name": "stdout",
     "output_type": "stream",
     "text": [
      "Epoch  70 , Accuracy:  97.1311 %\n"
     ]
    },
    {
     "name": "stderr",
     "output_type": "stream",
     "text": [
      " 72%|██████████████████████████████████████████████████████████████████████████████████████████████████████████████████████████████████████████████████████████████▏                                                             | 863/1200 [02:27<00:51,  6.60it/s]"
     ]
    },
    {
     "name": "stdout",
     "output_type": "stream",
     "text": [
      "Epoch  71 , Accuracy:  96.7213 %\n"
     ]
    },
    {
     "name": "stderr",
     "output_type": "stream",
     "text": [
      " 73%|████████████████████████████████████████████████████████████████████████████████████████████████████████████████████████████████████████████████████████████████▍                                                           | 875/1200 [02:30<00:51,  6.30it/s]"
     ]
    },
    {
     "name": "stdout",
     "output_type": "stream",
     "text": [
      "Epoch  72 , Accuracy:  97.9508 %\n"
     ]
    },
    {
     "name": "stderr",
     "output_type": "stream",
     "text": [
      " 74%|██████████████████████████████████████████████████████████████████████████████████████████████████████████████████████████████████████████████████████████████████▌                                                         | 887/1200 [02:32<00:48,  6.42it/s]"
     ]
    },
    {
     "name": "stdout",
     "output_type": "stream",
     "text": [
      "Epoch  73 , Accuracy:  96.3115 %\n"
     ]
    },
    {
     "name": "stderr",
     "output_type": "stream",
     "text": [
      " 75%|████████████████████████████████████████████████████████████████████████████████████████████████████████████████████████████████████████████████████████████████████▊                                                       | 899/1200 [02:34<00:46,  6.47it/s]"
     ]
    },
    {
     "name": "stdout",
     "output_type": "stream",
     "text": [
      "Epoch  74 , Accuracy:  96.7213 %\n"
     ]
    },
    {
     "name": "stderr",
     "output_type": "stream",
     "text": [
      " 76%|███████████████████████████████████████████████████████████████████████████████████████████████████████████████████████████████████████████████████████████████████████                                                     | 911/1200 [02:36<00:44,  6.51it/s]"
     ]
    },
    {
     "name": "stdout",
     "output_type": "stream",
     "text": [
      "Epoch  75 , Accuracy:  97.1311 %\n"
     ]
    },
    {
     "name": "stderr",
     "output_type": "stream",
     "text": [
      " 77%|█████████████████████████████████████████████████████████████████████████████████████████████████████████████████████████████████████████████████████████████████████████▏                                                  | 923/1200 [02:38<00:42,  6.55it/s]"
     ]
    },
    {
     "name": "stdout",
     "output_type": "stream",
     "text": [
      "Epoch  76 , Accuracy:  96.7213 %\n"
     ]
    },
    {
     "name": "stderr",
     "output_type": "stream",
     "text": [
      " 78%|███████████████████████████████████████████████████████████████████████████████████████████████████████████████████████████████████████████████████████████████████████████▍                                                | 935/1200 [02:40<00:40,  6.48it/s]"
     ]
    },
    {
     "name": "stdout",
     "output_type": "stream",
     "text": [
      "Epoch  77 , Accuracy:  96.7213 %\n"
     ]
    },
    {
     "name": "stderr",
     "output_type": "stream",
     "text": [
      " 79%|█████████████████████████████████████████████████████████████████████████████████████████████████████████████████████████████████████████████████████████████████████████████▌                                              | 947/1200 [02:42<00:38,  6.49it/s]"
     ]
    },
    {
     "name": "stdout",
     "output_type": "stream",
     "text": [
      "Epoch  78 , Accuracy:  96.7213 %\n"
     ]
    },
    {
     "name": "stderr",
     "output_type": "stream",
     "text": [
      " 80%|███████████████████████████████████████████████████████████████████████████████████████████████████████████████████████████████████████████████████████████████████████████████▊                                            | 959/1200 [02:44<00:37,  6.49it/s]"
     ]
    },
    {
     "name": "stdout",
     "output_type": "stream",
     "text": [
      "Epoch  79 , Accuracy:  96.7213 %\n"
     ]
    },
    {
     "name": "stderr",
     "output_type": "stream",
     "text": [
      " 81%|██████████████████████████████████████████████████████████████████████████████████████████████████████████████████████████████████████████████████████████████████████████████████                                          | 971/1200 [02:46<00:35,  6.52it/s]"
     ]
    },
    {
     "name": "stdout",
     "output_type": "stream",
     "text": [
      "Epoch  80 , Accuracy:  96.7213 %\n"
     ]
    },
    {
     "name": "stderr",
     "output_type": "stream",
     "text": [
      " 82%|████████████████████████████████████████████████████████████████████████████████████████████████████████████████████████████████████████████████████████████████████████████████████▏                                       | 983/1200 [02:48<00:33,  6.54it/s]"
     ]
    },
    {
     "name": "stdout",
     "output_type": "stream",
     "text": [
      "Epoch  81 , Accuracy:  97.541 %\n"
     ]
    },
    {
     "name": "stderr",
     "output_type": "stream",
     "text": [
      " 83%|██████████████████████████████████████████████████████████████████████████████████████████████████████████████████████████████████████████████████████████████████████████████████████▍                                     | 995/1200 [02:50<00:31,  6.51it/s]"
     ]
    },
    {
     "name": "stdout",
     "output_type": "stream",
     "text": [
      "Epoch  82 , Accuracy:  96.3115 %\n"
     ]
    },
    {
     "name": "stderr",
     "output_type": "stream",
     "text": [
      " 84%|███████████████████████████████████████████████████████████████████████████████████████████████████████████████████████████████████████████████████████████████████████████████████████▊                                   | 1007/1200 [02:52<00:29,  6.45it/s]"
     ]
    },
    {
     "name": "stdout",
     "output_type": "stream",
     "text": [
      "Epoch  83 , Accuracy:  96.7213 %\n"
     ]
    },
    {
     "name": "stderr",
     "output_type": "stream",
     "text": [
      " 85%|█████████████████████████████████████████████████████████████████████████████████████████████████████████████████████████████████████████████████████████████████████████████████████████▉                                 | 1019/1200 [02:54<00:28,  6.41it/s]"
     ]
    },
    {
     "name": "stdout",
     "output_type": "stream",
     "text": [
      "Epoch  84 , Accuracy:  97.1311 %\n"
     ]
    },
    {
     "name": "stderr",
     "output_type": "stream",
     "text": [
      " 86%|████████████████████████████████████████████████████████████████████████████████████████████████████████████████████████████████████████████████████████████████████████████████████████████▏                              | 1031/1200 [02:56<00:25,  6.53it/s]"
     ]
    },
    {
     "name": "stdout",
     "output_type": "stream",
     "text": [
      "Epoch  85 , Accuracy:  97.1311 %\n"
     ]
    },
    {
     "name": "stderr",
     "output_type": "stream",
     "text": [
      " 87%|██████████████████████████████████████████████████████████████████████████████████████████████████████████████████████████████████████████████████████████████████████████████████████████████▎                            | 1043/1200 [02:58<00:24,  6.43it/s]"
     ]
    },
    {
     "name": "stdout",
     "output_type": "stream",
     "text": [
      "Epoch  86 , Accuracy:  96.7213 %\n"
     ]
    },
    {
     "name": "stderr",
     "output_type": "stream",
     "text": [
      " 88%|████████████████████████████████████████████████████████████████████████████████████████████████████████████████████████████████████████████████████████████████████████████████████████████████▌                          | 1055/1200 [03:00<00:22,  6.56it/s]"
     ]
    },
    {
     "name": "stdout",
     "output_type": "stream",
     "text": [
      "Epoch  87 , Accuracy:  96.3115 %\n"
     ]
    },
    {
     "name": "stderr",
     "output_type": "stream",
     "text": [
      " 89%|██████████████████████████████████████████████████████████████████████████████████████████████████████████████████████████████████████████████████████████████████████████████████████████████████▋                        | 1067/1200 [03:03<00:20,  6.42it/s]"
     ]
    },
    {
     "name": "stdout",
     "output_type": "stream",
     "text": [
      "Epoch  88 , Accuracy:  95.9016 %\n"
     ]
    },
    {
     "name": "stderr",
     "output_type": "stream",
     "text": [
      " 90%|████████████████████████████████████████████████████████████████████████████████████████████████████████████████████████████████████████████████████████████████████████████████████████████████████▉                      | 1079/1200 [03:05<00:18,  6.49it/s]"
     ]
    },
    {
     "name": "stdout",
     "output_type": "stream",
     "text": [
      "Epoch  89 , Accuracy:  96.3115 %\n"
     ]
    },
    {
     "name": "stderr",
     "output_type": "stream",
     "text": [
      " 91%|███████████████████████████████████████████████████████████████████████████████████████████████████████████████████████████████████████████████████████████████████████████████████████████████████████                    | 1091/1200 [03:07<00:16,  6.47it/s]"
     ]
    },
    {
     "name": "stdout",
     "output_type": "stream",
     "text": [
      "Epoch  90 , Accuracy:  95.9016 %\n"
     ]
    },
    {
     "name": "stderr",
     "output_type": "stream",
     "text": [
      " 92%|█████████████████████████████████████████████████████████████████████████████████████████████████████████████████████████████████████████████████████████████████████████████████████████████████████████▎                 | 1103/1200 [03:09<00:14,  6.47it/s]"
     ]
    },
    {
     "name": "stdout",
     "output_type": "stream",
     "text": [
      "Epoch  91 , Accuracy:  97.1311 %\n"
     ]
    },
    {
     "name": "stderr",
     "output_type": "stream",
     "text": [
      " 93%|███████████████████████████████████████████████████████████████████████████████████████████████████████████████████████████████████████████████████████████████████████████████████████████████████████████▍               | 1115/1200 [03:11<00:13,  6.51it/s]"
     ]
    },
    {
     "name": "stdout",
     "output_type": "stream",
     "text": [
      "Epoch  92 , Accuracy:  96.7213 %\n"
     ]
    },
    {
     "name": "stderr",
     "output_type": "stream",
     "text": [
      " 94%|█████████████████████████████████████████████████████████████████████████████████████████████████████████████████████████████████████████████████████████████████████████████████████████████████████████████▋             | 1127/1200 [03:13<00:11,  6.48it/s]"
     ]
    },
    {
     "name": "stdout",
     "output_type": "stream",
     "text": [
      "Epoch  93 , Accuracy:  96.7213 %\n"
     ]
    },
    {
     "name": "stderr",
     "output_type": "stream",
     "text": [
      " 95%|███████████████████████████████████████████████████████████████████████████████████████████████████████████████████████████████████████████████████████████████████████████████████████████████████████████████▊           | 1139/1200 [03:15<00:09,  6.54it/s]"
     ]
    },
    {
     "name": "stdout",
     "output_type": "stream",
     "text": [
      "Epoch  94 , Accuracy:  95.9016 %\n"
     ]
    },
    {
     "name": "stderr",
     "output_type": "stream",
     "text": [
      " 96%|██████████████████████████████████████████████████████████████████████████████████████████████████████████████████████████████████████████████████████████████████████████████████████████████████████████████████         | 1151/1200 [03:17<00:07,  6.51it/s]"
     ]
    },
    {
     "name": "stdout",
     "output_type": "stream",
     "text": [
      "Epoch  95 , Accuracy:  96.3115 %\n"
     ]
    },
    {
     "name": "stderr",
     "output_type": "stream",
     "text": [
      " 97%|████████████████████████████████████████████████████████████████████████████████████████████████████████████████████████████████████████████████████████████████████████████████████████████████████████████████████▏      | 1163/1200 [03:19<00:05,  6.50it/s]"
     ]
    },
    {
     "name": "stdout",
     "output_type": "stream",
     "text": [
      "Epoch  96 , Accuracy:  96.7213 %\n"
     ]
    },
    {
     "name": "stderr",
     "output_type": "stream",
     "text": [
      " 98%|██████████████████████████████████████████████████████████████████████████████████████████████████████████████████████████████████████████████████████████████████████████████████████████████████████████████████████▍    | 1175/1200 [03:21<00:03,  6.52it/s]"
     ]
    },
    {
     "name": "stdout",
     "output_type": "stream",
     "text": [
      "Epoch  97 , Accuracy:  95.9016 %\n"
     ]
    },
    {
     "name": "stderr",
     "output_type": "stream",
     "text": [
      " 99%|████████████████████████████████████████████████████████████████████████████████████████████████████████████████████████████████████████████████████████████████████████████████████████████████████████████████████████▋  | 1187/1200 [03:23<00:02,  6.47it/s]"
     ]
    },
    {
     "name": "stdout",
     "output_type": "stream",
     "text": [
      "Epoch  98 , Accuracy:  96.3115 %\n"
     ]
    },
    {
     "name": "stderr",
     "output_type": "stream",
     "text": [
      "100%|██████████████████████████████████████████████████████████████████████████████████████████████████████████████████████████████████████████████████████████████████████████████████████████████████████████████████████████▊| 1199/1200 [03:25<00:00,  6.53it/s]"
     ]
    },
    {
     "name": "stdout",
     "output_type": "stream",
     "text": [
      "Epoch  99 , Accuracy:  96.3115 %\n"
     ]
    },
    {
     "name": "stderr",
     "output_type": "stream",
     "text": [
      "100%|███████████████████████████████████████████████████████████████████████████████████████████████████████████████████████████████████████████████████████████████████████████████████████████████████████████████████████████| 1200/1200 [03:26<00:00,  4.89it/s]\n"
     ]
    },
    {
     "name": "stdout",
     "output_type": "stream",
     "text": [
      "Final Accuracy:  97.9508 %\n",
      "Final Accuracy:  97.9508 %\n",
      "validation accuracy: 97.9508\n",
      "Precision 0.995412844037\n",
      "Recall 0.981900452489\n",
      "f1_score 0.98861047836\n",
      "confusion_matrix\n",
      "[[ 22   1]\n",
      " [  4 217]]\n",
      "(730, 2)\n",
      "(730, 20207)\n",
      "===  Starting Session ===\n",
      "session started\n",
      "=== Training ===\n",
      "Initial Accuracy:  79.5082 %\n"
     ]
    },
    {
     "name": "stderr",
     "output_type": "stream",
     "text": [
      "  1%|██                                                                                                                                                                                                                           | 11/1200 [00:02<03:26,  5.77it/s]"
     ]
    },
    {
     "name": "stdout",
     "output_type": "stream",
     "text": [
      "Epoch  0 , Accuracy:  76.6393 %\n"
     ]
    },
    {
     "name": "stderr",
     "output_type": "stream",
     "text": [
      "  2%|████▏                                                                                                                                                                                                                        | 23/1200 [00:04<03:01,  6.48it/s]"
     ]
    },
    {
     "name": "stdout",
     "output_type": "stream",
     "text": [
      "Epoch  1 , Accuracy:  78.6885 %\n"
     ]
    },
    {
     "name": "stderr",
     "output_type": "stream",
     "text": [
      "  3%|██████▍                                                                                                                                                                                                                      | 35/1200 [00:06<02:58,  6.51it/s]"
     ]
    },
    {
     "name": "stdout",
     "output_type": "stream",
     "text": [
      "Epoch  2 , Accuracy:  76.6393 %\n"
     ]
    },
    {
     "name": "stderr",
     "output_type": "stream",
     "text": [
      "  4%|████████▋                                                                                                                                                                                                                    | 47/1200 [00:08<02:57,  6.50it/s]"
     ]
    },
    {
     "name": "stdout",
     "output_type": "stream",
     "text": [
      "Epoch  3 , Accuracy:  82.377 %\n"
     ]
    },
    {
     "name": "stderr",
     "output_type": "stream",
     "text": [
      "  5%|██████████▊                                                                                                                                                                                                                  | 59/1200 [00:10<02:55,  6.52it/s]"
     ]
    },
    {
     "name": "stdout",
     "output_type": "stream",
     "text": [
      "Epoch  4 , Accuracy:  87.7049 %\n"
     ]
    },
    {
     "name": "stderr",
     "output_type": "stream",
     "text": [
      "  6%|█████████████                                                                                                                                                                                                                | 71/1200 [00:12<02:52,  6.53it/s]"
     ]
    },
    {
     "name": "stdout",
     "output_type": "stream",
     "text": [
      "Epoch  5 , Accuracy:  91.8033 %\n"
     ]
    },
    {
     "name": "stderr",
     "output_type": "stream",
     "text": [
      "  7%|███████████████▎                                                                                                                                                                                                             | 83/1200 [00:14<02:50,  6.56it/s]"
     ]
    },
    {
     "name": "stdout",
     "output_type": "stream",
     "text": [
      "Epoch  6 , Accuracy:  93.8524 %\n"
     ]
    },
    {
     "name": "stderr",
     "output_type": "stream",
     "text": [
      "  8%|█████████████████▍                                                                                                                                                                                                           | 95/1200 [00:16<02:48,  6.55it/s]"
     ]
    },
    {
     "name": "stdout",
     "output_type": "stream",
     "text": [
      "Epoch  7 , Accuracy:  95.9016 %\n"
     ]
    },
    {
     "name": "stderr",
     "output_type": "stream",
     "text": [
      "  9%|███████████████████▌                                                                                                                                                                                                        | 107/1200 [00:18<02:47,  6.54it/s]"
     ]
    },
    {
     "name": "stdout",
     "output_type": "stream",
     "text": [
      "Epoch  8 , Accuracy:  96.7213 %\n"
     ]
    },
    {
     "name": "stderr",
     "output_type": "stream",
     "text": [
      " 10%|█████████████████████▊                                                                                                                                                                                                      | 119/1200 [00:20<02:46,  6.50it/s]"
     ]
    },
    {
     "name": "stdout",
     "output_type": "stream",
     "text": [
      "Epoch  9 , Accuracy:  97.1311 %\n"
     ]
    },
    {
     "name": "stderr",
     "output_type": "stream",
     "text": [
      " 11%|████████████████████████                                                                                                                                                                                                    | 131/1200 [00:22<02:44,  6.50it/s]"
     ]
    },
    {
     "name": "stdout",
     "output_type": "stream",
     "text": [
      "Epoch  10 , Accuracy:  97.9508 %\n"
     ]
    },
    {
     "name": "stderr",
     "output_type": "stream",
     "text": [
      " 12%|██████████████████████████▏                                                                                                                                                                                                 | 143/1200 [00:25<02:41,  6.54it/s]"
     ]
    },
    {
     "name": "stdout",
     "output_type": "stream",
     "text": [
      "Epoch  11 , Accuracy:  97.9508 %\n"
     ]
    },
    {
     "name": "stderr",
     "output_type": "stream",
     "text": [
      " 13%|████████████████████████████▍                                                                                                                                                                                               | 155/1200 [00:27<02:39,  6.53it/s]"
     ]
    },
    {
     "name": "stdout",
     "output_type": "stream",
     "text": [
      "Epoch  12 , Accuracy:  98.3606 %\n"
     ]
    },
    {
     "name": "stderr",
     "output_type": "stream",
     "text": [
      " 14%|██████████████████████████████▌                                                                                                                                                                                             | 167/1200 [00:29<02:39,  6.48it/s]"
     ]
    },
    {
     "name": "stdout",
     "output_type": "stream",
     "text": [
      "Epoch  13 , Accuracy:  98.7705 %\n"
     ]
    },
    {
     "name": "stderr",
     "output_type": "stream",
     "text": [
      " 15%|████████████████████████████████▊                                                                                                                                                                                           | 179/1200 [00:31<02:37,  6.50it/s]"
     ]
    },
    {
     "name": "stdout",
     "output_type": "stream",
     "text": [
      "Epoch  14 , Accuracy:  98.7705 %\n"
     ]
    },
    {
     "name": "stderr",
     "output_type": "stream",
     "text": [
      " 16%|███████████████████████████████████                                                                                                                                                                                         | 191/1200 [00:33<02:36,  6.46it/s]"
     ]
    },
    {
     "name": "stdout",
     "output_type": "stream",
     "text": [
      "Epoch  15 , Accuracy:  98.7705 %\n"
     ]
    },
    {
     "name": "stderr",
     "output_type": "stream",
     "text": [
      " 17%|█████████████████████████████████████▏                                                                                                                                                                                      | 203/1200 [00:35<02:32,  6.52it/s]"
     ]
    },
    {
     "name": "stdout",
     "output_type": "stream",
     "text": [
      "Epoch  16 , Accuracy:  98.7705 %\n"
     ]
    },
    {
     "name": "stderr",
     "output_type": "stream",
     "text": [
      " 18%|███████████████████████████████████████▍                                                                                                                                                                                    | 215/1200 [00:37<02:30,  6.56it/s]"
     ]
    },
    {
     "name": "stdout",
     "output_type": "stream",
     "text": [
      "Epoch  17 , Accuracy:  98.7705 %\n"
     ]
    },
    {
     "name": "stderr",
     "output_type": "stream",
     "text": [
      " 19%|█████████████████████████████████████████▌                                                                                                                                                                                  | 227/1200 [00:39<02:28,  6.53it/s]"
     ]
    },
    {
     "name": "stdout",
     "output_type": "stream",
     "text": [
      "Epoch  18 , Accuracy:  98.7705 %\n"
     ]
    },
    {
     "name": "stderr",
     "output_type": "stream",
     "text": [
      " 20%|███████████████████████████████████████████▊                                                                                                                                                                                | 239/1200 [00:41<02:27,  6.53it/s]"
     ]
    },
    {
     "name": "stdout",
     "output_type": "stream",
     "text": [
      "Epoch  19 , Accuracy:  98.7705 %\n"
     ]
    },
    {
     "name": "stderr",
     "output_type": "stream",
     "text": [
      " 21%|██████████████████████████████████████████████                                                                                                                                                                              | 251/1200 [00:43<02:27,  6.43it/s]"
     ]
    },
    {
     "name": "stdout",
     "output_type": "stream",
     "text": [
      "Epoch  20 , Accuracy:  98.7705 %\n"
     ]
    },
    {
     "name": "stderr",
     "output_type": "stream",
     "text": [
      " 22%|████████████████████████████████████████████████▏                                                                                                                                                                           | 263/1200 [00:45<02:24,  6.51it/s]"
     ]
    },
    {
     "name": "stdout",
     "output_type": "stream",
     "text": [
      "Epoch  21 , Accuracy:  98.7705 %\n"
     ]
    },
    {
     "name": "stderr",
     "output_type": "stream",
     "text": [
      " 23%|██████████████████████████████████████████████████▍                                                                                                                                                                         | 275/1200 [00:47<02:22,  6.51it/s]"
     ]
    },
    {
     "name": "stdout",
     "output_type": "stream",
     "text": [
      "Epoch  22 , Accuracy:  98.7705 %\n"
     ]
    },
    {
     "name": "stderr",
     "output_type": "stream",
     "text": [
      " 24%|████████████████████████████████████████████████████▌                                                                                                                                                                       | 287/1200 [00:49<02:18,  6.57it/s]"
     ]
    },
    {
     "name": "stdout",
     "output_type": "stream",
     "text": [
      "Epoch  23 , Accuracy:  98.7705 %\n"
     ]
    },
    {
     "name": "stderr",
     "output_type": "stream",
     "text": [
      " 25%|██████████████████████████████████████████████████████▊                                                                                                                                                                     | 299/1200 [00:51<02:17,  6.53it/s]"
     ]
    },
    {
     "name": "stdout",
     "output_type": "stream",
     "text": [
      "Epoch  24 , Accuracy:  99.1803 %\n"
     ]
    },
    {
     "name": "stderr",
     "output_type": "stream",
     "text": [
      " 26%|█████████████████████████████████████████████████████████                                                                                                                                                                   | 311/1200 [00:53<02:17,  6.49it/s]"
     ]
    },
    {
     "name": "stdout",
     "output_type": "stream",
     "text": [
      "Epoch  25 , Accuracy:  99.1803 %\n"
     ]
    },
    {
     "name": "stderr",
     "output_type": "stream",
     "text": [
      " 27%|███████████████████████████████████████████████████████████▏                                                                                                                                                                | 323/1200 [00:55<02:14,  6.50it/s]"
     ]
    },
    {
     "name": "stdout",
     "output_type": "stream",
     "text": [
      "Epoch  26 , Accuracy:  99.1803 %\n"
     ]
    },
    {
     "name": "stderr",
     "output_type": "stream",
     "text": [
      " 28%|█████████████████████████████████████████████████████████████▍                                                                                                                                                              | 335/1200 [00:57<02:12,  6.55it/s]"
     ]
    },
    {
     "name": "stdout",
     "output_type": "stream",
     "text": [
      "Epoch  27 , Accuracy:  99.1803 %\n"
     ]
    },
    {
     "name": "stderr",
     "output_type": "stream",
     "text": [
      " 29%|███████████████████████████████████████████████████████████████▌                                                                                                                                                            | 347/1200 [00:59<02:10,  6.55it/s]"
     ]
    },
    {
     "name": "stdout",
     "output_type": "stream",
     "text": [
      "Epoch  28 , Accuracy:  99.1803 %\n"
     ]
    },
    {
     "name": "stderr",
     "output_type": "stream",
     "text": [
      " 30%|█████████████████████████████████████████████████████████████████▊                                                                                                                                                          | 359/1200 [01:01<02:08,  6.52it/s]"
     ]
    },
    {
     "name": "stdout",
     "output_type": "stream",
     "text": [
      "Epoch  29 , Accuracy:  99.1803 %\n"
     ]
    },
    {
     "name": "stderr",
     "output_type": "stream",
     "text": [
      " 31%|████████████████████████████████████████████████████████████████████                                                                                                                                                        | 371/1200 [01:04<02:08,  6.47it/s]"
     ]
    },
    {
     "name": "stdout",
     "output_type": "stream",
     "text": [
      "Epoch  30 , Accuracy:  99.1803 %\n"
     ]
    },
    {
     "name": "stderr",
     "output_type": "stream",
     "text": [
      " 32%|██████████████████████████████████████████████████████████████████████▏                                                                                                                                                     | 383/1200 [01:06<02:05,  6.53it/s]"
     ]
    },
    {
     "name": "stdout",
     "output_type": "stream",
     "text": [
      "Epoch  31 , Accuracy:  99.1803 %\n",
      "Final Accuracy:  98.3606 %\n",
      "Final Accuracy:  98.3606 %\n",
      "validation accuracy: 98.3606\n",
      "Precision 0.995433789954\n",
      "Recall 0.986425339367\n",
      "f1_score 0.990909090909\n",
      "confusion_matrix\n",
      "[[ 22   1]\n",
      " [  3 218]]\n",
      "(730, 2)\n",
      "(730, 20207)\n",
      "===  Starting Session ===\n",
      "session started\n",
      "=== Training ===\n",
      "Initial Accuracy:  71.3115 %\n"
     ]
    },
    {
     "name": "stderr",
     "output_type": "stream",
     "text": [
      "\n",
      "  0%|                                                                                                                                                                                                                                      | 0/1200 [00:00<?, ?it/s]\n",
      "  0%|▏                                                                                                                                                                                                                             | 1/1200 [00:00<17:34,  1.14it/s]\n",
      "  0%|▎                                                                                                                                                                                                                             | 2/1200 [00:01<13:12,  1.51it/s]\n",
      "  0%|▌                                                                                                                                                                                                                             | 3/1200 [00:01<10:08,  1.97it/s]\n",
      "  0%|▋                                                                                                                                                                                                                             | 4/1200 [00:01<07:59,  2.50it/s]\n",
      "  0%|▉                                                                                                                                                                                                                             | 5/1200 [00:01<06:28,  3.08it/s]\n",
      "  0%|█                                                                                                                                                                                                                             | 6/1200 [00:01<05:23,  3.69it/s]\n",
      "  1%|█▎                                                                                                                                                                                                                            | 7/1200 [00:01<04:40,  4.26it/s]\n",
      "  1%|█▍                                                                                                                                                                                                                            | 8/1200 [00:01<04:08,  4.79it/s]\n",
      "  1%|█▋                                                                                                                                                                                                                            | 9/1200 [00:02<03:48,  5.22it/s]\n",
      "  1%|█▊                                                                                                                                                                                                                           | 10/1200 [00:02<03:32,  5.60it/s]\n",
      "  1%|██                                                                                                                                                                                                                           | 11/1200 [00:02<03:21,  5.89it/s]"
     ]
    },
    {
     "name": "stdout",
     "output_type": "stream",
     "text": [
      "Epoch  0 , Accuracy:  62.2951 %\n"
     ]
    },
    {
     "name": "stderr",
     "output_type": "stream",
     "text": [
      "\n",
      "  1%|██▏                                                                                                                                                                                                                          | 12/1200 [00:02<04:15,  4.64it/s]\n",
      "  1%|██▍                                                                                                                                                                                                                          | 13/1200 [00:02<04:09,  4.75it/s]\n",
      "  1%|██▌                                                                                                                                                                                                                          | 14/1200 [00:03<03:48,  5.19it/s]\n",
      "  1%|██▊                                                                                                                                                                                                                          | 15/1200 [00:03<03:32,  5.57it/s]\n",
      "  1%|██▉                                                                                                                                                                                                                          | 16/1200 [00:03<03:22,  5.85it/s]\n",
      "  1%|███▏                                                                                                                                                                                                                         | 17/1200 [00:03<03:15,  6.04it/s]\n",
      "  2%|███▎                                                                                                                                                                                                                         | 18/1200 [00:03<03:09,  6.22it/s]\n",
      "  2%|███▍                                                                                                                                                                                                                         | 19/1200 [00:03<03:05,  6.36it/s]\n",
      "  2%|███▋                                                                                                                                                                                                                         | 20/1200 [00:03<03:02,  6.46it/s]\n",
      "  2%|███▊                                                                                                                                                                                                                         | 21/1200 [00:04<03:00,  6.54it/s]\n",
      "  2%|████                                                                                                                                                                                                                         | 22/1200 [00:04<02:58,  6.59it/s]\n",
      "  2%|████▏                                                                                                                                                                                                                        | 23/1200 [00:04<02:57,  6.63it/s]"
     ]
    },
    {
     "name": "stdout",
     "output_type": "stream",
     "text": [
      "Epoch  1 , Accuracy:  62.7049 %\n"
     ]
    },
    {
     "name": "stderr",
     "output_type": "stream",
     "text": [
      "\n",
      "  2%|████▍                                                                                                                                                                                                                        | 24/1200 [00:04<03:57,  4.95it/s]\n",
      "  2%|████▌                                                                                                                                                                                                                        | 25/1200 [00:04<03:59,  4.90it/s]\n",
      "  2%|████▊                                                                                                                                                                                                                        | 26/1200 [00:05<03:39,  5.34it/s]\n",
      "  2%|████▉                                                                                                                                                                                                                        | 27/1200 [00:05<03:26,  5.69it/s]\n",
      "  2%|█████▏                                                                                                                                                                                                                       | 28/1200 [00:05<03:16,  5.95it/s]\n",
      "  2%|█████▎                                                                                                                                                                                                                       | 29/1200 [00:05<03:11,  6.12it/s]\n",
      "  2%|█████▌                                                                                                                                                                                                                       | 30/1200 [00:05<03:06,  6.28it/s]\n",
      "  3%|██████▍                                                                                                                                                                                                                      | 35/1200 [00:06<02:55,  6.63it/s]"
     ]
    },
    {
     "name": "stdout",
     "output_type": "stream",
     "text": [
      "Epoch  2 , Accuracy:  61.8852 %\n"
     ]
    },
    {
     "name": "stderr",
     "output_type": "stream",
     "text": [
      "  4%|████████▋                                                                                                                                                                                                                    | 47/1200 [00:08<02:50,  6.78it/s]"
     ]
    },
    {
     "name": "stdout",
     "output_type": "stream",
     "text": [
      "Epoch  3 , Accuracy:  65.1639 %\n"
     ]
    },
    {
     "name": "stderr",
     "output_type": "stream",
     "text": [
      "  5%|██████████▊                                                                                                                                                                                                                  | 59/1200 [00:10<02:49,  6.71it/s]"
     ]
    },
    {
     "name": "stdout",
     "output_type": "stream",
     "text": [
      "Epoch  4 , Accuracy:  71.3115 %\n"
     ]
    },
    {
     "name": "stderr",
     "output_type": "stream",
     "text": [
      "  6%|█████████████                                                                                                                                                                                                                | 71/1200 [00:12<02:48,  6.69it/s]"
     ]
    },
    {
     "name": "stdout",
     "output_type": "stream",
     "text": [
      "Epoch  5 , Accuracy:  75.0 %\n"
     ]
    },
    {
     "name": "stderr",
     "output_type": "stream",
     "text": [
      "  7%|███████████████▎                                                                                                                                                                                                             | 83/1200 [00:14<02:47,  6.68it/s]"
     ]
    },
    {
     "name": "stdout",
     "output_type": "stream",
     "text": [
      "Epoch  6 , Accuracy:  82.377 %\n"
     ]
    },
    {
     "name": "stderr",
     "output_type": "stream",
     "text": [
      "  8%|█████████████████▍                                                                                                                                                                                                           | 95/1200 [00:16<02:45,  6.69it/s]"
     ]
    },
    {
     "name": "stdout",
     "output_type": "stream",
     "text": [
      "Epoch  7 , Accuracy:  84.4262 %\n"
     ]
    },
    {
     "name": "stderr",
     "output_type": "stream",
     "text": [
      "  9%|███████████████████▌                                                                                                                                                                                                        | 107/1200 [00:18<02:44,  6.66it/s]"
     ]
    },
    {
     "name": "stdout",
     "output_type": "stream",
     "text": [
      "Epoch  8 , Accuracy:  88.5246 %\n"
     ]
    },
    {
     "name": "stderr",
     "output_type": "stream",
     "text": [
      " 10%|█████████████████████▊                                                                                                                                                                                                      | 119/1200 [00:20<02:42,  6.63it/s]"
     ]
    },
    {
     "name": "stdout",
     "output_type": "stream",
     "text": [
      "Epoch  9 , Accuracy:  91.8033 %\n"
     ]
    },
    {
     "name": "stderr",
     "output_type": "stream",
     "text": [
      " 11%|████████████████████████                                                                                                                                                                                                    | 131/1200 [00:22<02:39,  6.69it/s]"
     ]
    },
    {
     "name": "stdout",
     "output_type": "stream",
     "text": [
      "Epoch  10 , Accuracy:  95.4918 %\n"
     ]
    },
    {
     "name": "stderr",
     "output_type": "stream",
     "text": [
      " 12%|██████████████████████████▏                                                                                                                                                                                                 | 143/1200 [00:24<02:37,  6.71it/s]"
     ]
    },
    {
     "name": "stdout",
     "output_type": "stream",
     "text": [
      "Epoch  11 , Accuracy:  94.6721 %\n"
     ]
    },
    {
     "name": "stderr",
     "output_type": "stream",
     "text": [
      " 13%|████████████████████████████▍                                                                                                                                                                                               | 155/1200 [00:26<02:35,  6.71it/s]"
     ]
    },
    {
     "name": "stdout",
     "output_type": "stream",
     "text": [
      "Epoch  12 , Accuracy:  95.4918 %\n"
     ]
    },
    {
     "name": "stderr",
     "output_type": "stream",
     "text": [
      " 14%|██████████████████████████████▌                                                                                                                                                                                             | 167/1200 [00:28<02:34,  6.70it/s]"
     ]
    },
    {
     "name": "stdout",
     "output_type": "stream",
     "text": [
      "Epoch  13 , Accuracy:  95.4918 %\n"
     ]
    },
    {
     "name": "stderr",
     "output_type": "stream",
     "text": [
      " 15%|████████████████████████████████▊                                                                                                                                                                                           | 179/1200 [00:30<02:33,  6.67it/s]"
     ]
    },
    {
     "name": "stdout",
     "output_type": "stream",
     "text": [
      "Epoch  14 , Accuracy:  94.6721 %\n"
     ]
    },
    {
     "name": "stderr",
     "output_type": "stream",
     "text": [
      " 16%|███████████████████████████████████                                                                                                                                                                                         | 191/1200 [00:32<02:30,  6.72it/s]"
     ]
    },
    {
     "name": "stdout",
     "output_type": "stream",
     "text": [
      "Epoch  15 , Accuracy:  95.9016 %\n"
     ]
    },
    {
     "name": "stderr",
     "output_type": "stream",
     "text": [
      " 17%|█████████████████████████████████████▏                                                                                                                                                                                      | 203/1200 [00:34<02:29,  6.68it/s]"
     ]
    },
    {
     "name": "stdout",
     "output_type": "stream",
     "text": [
      "Epoch  16 , Accuracy:  96.7213 %\n"
     ]
    },
    {
     "name": "stderr",
     "output_type": "stream",
     "text": [
      " 18%|███████████████████████████████████████▍                                                                                                                                                                                    | 215/1200 [00:36<02:28,  6.64it/s]"
     ]
    },
    {
     "name": "stdout",
     "output_type": "stream",
     "text": [
      "Epoch  17 , Accuracy:  97.541 %\n"
     ]
    },
    {
     "name": "stderr",
     "output_type": "stream",
     "text": [
      " 19%|█████████████████████████████████████████▌                                                                                                                                                                                  | 227/1200 [00:38<02:26,  6.66it/s]"
     ]
    },
    {
     "name": "stdout",
     "output_type": "stream",
     "text": [
      "Epoch  18 , Accuracy:  97.541 %\n"
     ]
    },
    {
     "name": "stderr",
     "output_type": "stream",
     "text": [
      " 20%|███████████████████████████████████████████▊                                                                                                                                                                                | 239/1200 [00:40<02:24,  6.67it/s]"
     ]
    },
    {
     "name": "stdout",
     "output_type": "stream",
     "text": [
      "Epoch  19 , Accuracy:  97.9508 %\n"
     ]
    },
    {
     "name": "stderr",
     "output_type": "stream",
     "text": [
      " 21%|██████████████████████████████████████████████                                                                                                                                                                              | 251/1200 [00:42<02:21,  6.69it/s]"
     ]
    },
    {
     "name": "stdout",
     "output_type": "stream",
     "text": [
      "Epoch  20 , Accuracy:  97.9508 %\n"
     ]
    },
    {
     "name": "stderr",
     "output_type": "stream",
     "text": [
      " 22%|████████████████████████████████████████████████▏                                                                                                                                                                           | 263/1200 [00:44<02:21,  6.64it/s]"
     ]
    },
    {
     "name": "stdout",
     "output_type": "stream",
     "text": [
      "Epoch  21 , Accuracy:  97.541 %\n"
     ]
    },
    {
     "name": "stderr",
     "output_type": "stream",
     "text": [
      " 23%|██████████████████████████████████████████████████▍                                                                                                                                                                         | 275/1200 [00:46<02:18,  6.66it/s]"
     ]
    },
    {
     "name": "stdout",
     "output_type": "stream",
     "text": [
      "Epoch  22 , Accuracy:  97.541 %\n"
     ]
    },
    {
     "name": "stderr",
     "output_type": "stream",
     "text": [
      " 24%|████████████████████████████████████████████████████▌                                                                                                                                                                       | 287/1200 [00:48<02:16,  6.68it/s]"
     ]
    },
    {
     "name": "stdout",
     "output_type": "stream",
     "text": [
      "Epoch  23 , Accuracy:  98.3606 %\n"
     ]
    },
    {
     "name": "stderr",
     "output_type": "stream",
     "text": [
      " 25%|██████████████████████████████████████████████████████▊                                                                                                                                                                     | 299/1200 [00:50<02:15,  6.66it/s]"
     ]
    },
    {
     "name": "stdout",
     "output_type": "stream",
     "text": [
      "Epoch  24 , Accuracy:  98.3606 %\n"
     ]
    },
    {
     "name": "stderr",
     "output_type": "stream",
     "text": [
      " 26%|█████████████████████████████████████████████████████████                                                                                                                                                                   | 311/1200 [00:52<02:12,  6.69it/s]"
     ]
    },
    {
     "name": "stdout",
     "output_type": "stream",
     "text": [
      "Epoch  25 , Accuracy:  97.541 %\n"
     ]
    },
    {
     "name": "stderr",
     "output_type": "stream",
     "text": [
      " 27%|███████████████████████████████████████████████████████████▏                                                                                                                                                                | 323/1200 [00:54<02:10,  6.71it/s]"
     ]
    },
    {
     "name": "stdout",
     "output_type": "stream",
     "text": [
      "Epoch  26 , Accuracy:  97.9508 %\n"
     ]
    },
    {
     "name": "stderr",
     "output_type": "stream",
     "text": [
      " 28%|█████████████████████████████████████████████████████████████▍                                                                                                                                                              | 335/1200 [00:56<02:09,  6.66it/s]"
     ]
    },
    {
     "name": "stdout",
     "output_type": "stream",
     "text": [
      "Epoch  27 , Accuracy:  97.9508 %\n"
     ]
    },
    {
     "name": "stderr",
     "output_type": "stream",
     "text": [
      " 29%|███████████████████████████████████████████████████████████████▌                                                                                                                                                            | 347/1200 [00:58<02:06,  6.72it/s]"
     ]
    },
    {
     "name": "stdout",
     "output_type": "stream",
     "text": [
      "Epoch  28 , Accuracy:  97.9508 %\n"
     ]
    },
    {
     "name": "stderr",
     "output_type": "stream",
     "text": [
      " 30%|█████████████████████████████████████████████████████████████████▊                                                                                                                                                          | 359/1200 [01:00<02:07,  6.60it/s]"
     ]
    },
    {
     "name": "stdout",
     "output_type": "stream",
     "text": [
      "Epoch  29 , Accuracy:  98.7705 %\n"
     ]
    },
    {
     "name": "stderr",
     "output_type": "stream",
     "text": [
      " 31%|████████████████████████████████████████████████████████████████████                                                                                                                                                        | 371/1200 [01:02<02:04,  6.64it/s]"
     ]
    },
    {
     "name": "stdout",
     "output_type": "stream",
     "text": [
      "Epoch  30 , Accuracy:  98.7705 %\n"
     ]
    },
    {
     "name": "stderr",
     "output_type": "stream",
     "text": [
      " 32%|██████████████████████████████████████████████████████████████████████▏                                                                                                                                                     | 383/1200 [01:04<02:02,  6.66it/s]"
     ]
    },
    {
     "name": "stdout",
     "output_type": "stream",
     "text": [
      "Epoch  31 , Accuracy:  98.3606 %\n"
     ]
    },
    {
     "name": "stderr",
     "output_type": "stream",
     "text": [
      " 33%|████████████████████████████████████████████████████████████████████████▍                                                                                                                                                   | 395/1200 [01:06<02:00,  6.70it/s]"
     ]
    },
    {
     "name": "stdout",
     "output_type": "stream",
     "text": [
      "Epoch  32 , Accuracy:  98.3606 %\n"
     ]
    },
    {
     "name": "stderr",
     "output_type": "stream",
     "text": [
      " 34%|██████████████████████████████████████████████████████████████████████████▌                                                                                                                                                 | 407/1200 [01:08<01:58,  6.71it/s]"
     ]
    },
    {
     "name": "stdout",
     "output_type": "stream",
     "text": [
      "Epoch  33 , Accuracy:  98.7705 %\n"
     ]
    },
    {
     "name": "stderr",
     "output_type": "stream",
     "text": [
      " 35%|████████████████████████████████████████████████████████████████████████████▊                                                                                                                                               | 419/1200 [01:10<01:55,  6.76it/s]"
     ]
    },
    {
     "name": "stdout",
     "output_type": "stream",
     "text": [
      "Epoch  34 , Accuracy:  99.1803 %\n",
      "Final Accuracy:  98.7705 %\n",
      "Final Accuracy:  98.7705 %\n",
      "validation accuracy: 98.7705\n",
      "Precision 0.990990990991\n",
      "Recall 0.995475113122\n",
      "f1_score 0.993227990971\n",
      "confusion_matrix\n",
      "[[ 21   2]\n",
      " [  1 220]]\n",
      "(730, 2)\n",
      "(730, 20207)\n",
      "===  Starting Session ===\n",
      "session started\n",
      "=== Training ===\n",
      "Initial Accuracy:  23.3607 %\n"
     ]
    },
    {
     "name": "stderr",
     "output_type": "stream",
     "text": [
      "\n",
      "  0%|                                                                                                                                                                                                                                      | 0/1200 [00:00<?, ?it/s]\n",
      "  0%|▏                                                                                                                                                                                                                             | 1/1200 [00:00<17:45,  1.13it/s]\n",
      "  0%|▎                                                                                                                                                                                                                             | 2/1200 [00:01<13:22,  1.49it/s]\n",
      "  0%|▌                                                                                                                                                                                                                             | 3/1200 [00:01<10:17,  1.94it/s]\n",
      "  0%|▋                                                                                                                                                                                                                             | 4/1200 [00:01<08:06,  2.46it/s]\n",
      "  0%|▉                                                                                                                                                                                                                             | 5/1200 [00:01<06:35,  3.02it/s]\n",
      "  0%|█                                                                                                                                                                                                                             | 6/1200 [00:01<05:31,  3.60it/s]\n",
      "  1%|█▎                                                                                                                                                                                                                            | 7/1200 [00:01<04:45,  4.17it/s]\n",
      "  1%|█▍                                                                                                                                                                                                                            | 8/1200 [00:01<04:14,  4.68it/s]\n",
      "  1%|█▋                                                                                                                                                                                                                            | 9/1200 [00:02<03:52,  5.12it/s]\n",
      "  1%|█▊                                                                                                                                                                                                                           | 10/1200 [00:02<03:37,  5.47it/s]\n",
      "  1%|██                                                                                                                                                                                                                           | 11/1200 [00:02<03:26,  5.75it/s]"
     ]
    },
    {
     "name": "stdout",
     "output_type": "stream",
     "text": [
      "Epoch  0 , Accuracy:  72.541 %\n"
     ]
    },
    {
     "name": "stderr",
     "output_type": "stream",
     "text": [
      "\n",
      "  1%|██▏                                                                                                                                                                                                                          | 12/1200 [00:02<04:20,  4.57it/s]\n",
      "  1%|██▍                                                                                                                                                                                                                          | 13/1200 [00:02<04:14,  4.67it/s]\n",
      "  1%|██▌                                                                                                                                                                                                                          | 14/1200 [00:03<03:52,  5.09it/s]\n",
      "  1%|██▊                                                                                                                                                                                                                          | 15/1200 [00:03<03:38,  5.41it/s]\n",
      "  1%|██▉                                                                                                                                                                                                                          | 16/1200 [00:03<03:27,  5.70it/s]\n",
      "  1%|███▏                                                                                                                                                                                                                         | 17/1200 [00:03<03:21,  5.88it/s]\n",
      "  2%|███▎                                                                                                                                                                                                                         | 18/1200 [00:03<03:15,  6.05it/s]\n",
      "  2%|███▍                                                                                                                                                                                                                         | 19/1200 [00:03<03:11,  6.17it/s]\n",
      "  2%|███▋                                                                                                                                                                                                                         | 20/1200 [00:04<03:08,  6.25it/s]\n",
      "  2%|███▊                                                                                                                                                                                                                         | 21/1200 [00:04<03:06,  6.31it/s]\n",
      "  2%|████                                                                                                                                                                                                                         | 22/1200 [00:04<03:05,  6.34it/s]\n",
      "  2%|████▏                                                                                                                                                                                                                        | 23/1200 [00:04<03:04,  6.38it/s]"
     ]
    },
    {
     "name": "stdout",
     "output_type": "stream",
     "text": [
      "Epoch  1 , Accuracy:  75.4098 %\n"
     ]
    },
    {
     "name": "stderr",
     "output_type": "stream",
     "text": [
      "\n",
      "  2%|████▍                                                                                                                                                                                                                        | 24/1200 [00:04<04:05,  4.78it/s]\n",
      "  2%|████▌                                                                                                                                                                                                                        | 25/1200 [00:05<04:06,  4.77it/s]\n",
      "  2%|████▊                                                                                                                                                                                                                        | 26/1200 [00:05<03:47,  5.17it/s]\n",
      "  2%|████▉                                                                                                                                                                                                                        | 27/1200 [00:05<03:33,  5.49it/s]\n",
      "  2%|█████▏                                                                                                                                                                                                                       | 28/1200 [00:05<03:23,  5.76it/s]\n",
      "  2%|█████▎                                                                                                                                                                                                                       | 29/1200 [00:05<03:17,  5.93it/s]\n",
      "  2%|█████▌                                                                                                                                                                                                                       | 30/1200 [00:05<03:12,  6.07it/s]\n",
      "  3%|█████▋                                                                                                                                                                                                                       | 31/1200 [00:05<03:09,  6.18it/s]\n",
      "  3%|█████▉                                                                                                                                                                                                                       | 32/1200 [00:06<03:06,  6.28it/s]\n",
      "  3%|██████                                                                                                                                                                                                                       | 33/1200 [00:06<03:04,  6.32it/s]\n",
      "  3%|██████▎                                                                                                                                                                                                                      | 34/1200 [00:06<03:03,  6.36it/s]\n",
      "  3%|██████▍                                                                                                                                                                                                                      | 35/1200 [00:06<03:01,  6.43it/s]\n"
     ]
    },
    {
     "name": "stdout",
     "output_type": "stream",
     "text": [
      "Epoch  2 , Accuracy:  80.7377 %\n"
     ]
    },
    {
     "name": "stderr",
     "output_type": "stream",
     "text": [
      "  4%|████████▋                                                                                                                                                                                                                    | 47/1200 [00:08<02:57,  6.49it/s]"
     ]
    },
    {
     "name": "stdout",
     "output_type": "stream",
     "text": [
      "Epoch  3 , Accuracy:  86.4754 %\n"
     ]
    },
    {
     "name": "stderr",
     "output_type": "stream",
     "text": [
      "  5%|██████████▊                                                                                                                                                                                                                  | 59/1200 [00:10<02:55,  6.49it/s]"
     ]
    },
    {
     "name": "stdout",
     "output_type": "stream",
     "text": [
      "Epoch  4 , Accuracy:  88.9344 %\n"
     ]
    },
    {
     "name": "stderr",
     "output_type": "stream",
     "text": [
      "  6%|█████████████                                                                                                                                                                                                                | 71/1200 [00:12<02:53,  6.50it/s]"
     ]
    },
    {
     "name": "stdout",
     "output_type": "stream",
     "text": [
      "Epoch  5 , Accuracy:  90.5738 %\n"
     ]
    },
    {
     "name": "stderr",
     "output_type": "stream",
     "text": [
      "  7%|███████████████▎                                                                                                                                                                                                             | 83/1200 [00:14<02:51,  6.51it/s]"
     ]
    },
    {
     "name": "stdout",
     "output_type": "stream",
     "text": [
      "Epoch  6 , Accuracy:  91.3934 %\n"
     ]
    },
    {
     "name": "stderr",
     "output_type": "stream",
     "text": [
      "  8%|█████████████████▍                                                                                                                                                                                                           | 95/1200 [00:16<02:49,  6.50it/s]"
     ]
    },
    {
     "name": "stdout",
     "output_type": "stream",
     "text": [
      "Epoch  7 , Accuracy:  91.3934 %\n"
     ]
    },
    {
     "name": "stderr",
     "output_type": "stream",
     "text": [
      "  9%|███████████████████▌                                                                                                                                                                                                        | 107/1200 [00:18<02:48,  6.49it/s]"
     ]
    },
    {
     "name": "stdout",
     "output_type": "stream",
     "text": [
      "Epoch  8 , Accuracy:  92.2131 %\n"
     ]
    },
    {
     "name": "stderr",
     "output_type": "stream",
     "text": [
      " 10%|█████████████████████▊                                                                                                                                                                                                      | 119/1200 [00:21<02:46,  6.48it/s]"
     ]
    },
    {
     "name": "stdout",
     "output_type": "stream",
     "text": [
      "Epoch  9 , Accuracy:  92.6229 %\n"
     ]
    },
    {
     "name": "stderr",
     "output_type": "stream",
     "text": [
      " 11%|████████████████████████                                                                                                                                                                                                    | 131/1200 [00:23<02:43,  6.54it/s]"
     ]
    },
    {
     "name": "stdout",
     "output_type": "stream",
     "text": [
      "Epoch  10 , Accuracy:  93.0328 %\n"
     ]
    },
    {
     "name": "stderr",
     "output_type": "stream",
     "text": [
      " 12%|██████████████████████████▏                                                                                                                                                                                                 | 143/1200 [00:25<02:42,  6.50it/s]"
     ]
    },
    {
     "name": "stdout",
     "output_type": "stream",
     "text": [
      "Epoch  11 , Accuracy:  94.2623 %\n"
     ]
    },
    {
     "name": "stderr",
     "output_type": "stream",
     "text": [
      " 13%|████████████████████████████▍                                                                                                                                                                                               | 155/1200 [00:27<02:40,  6.51it/s]"
     ]
    },
    {
     "name": "stdout",
     "output_type": "stream",
     "text": [
      "Epoch  12 , Accuracy:  94.6721 %\n"
     ]
    },
    {
     "name": "stderr",
     "output_type": "stream",
     "text": [
      " 14%|██████████████████████████████▌                                                                                                                                                                                             | 167/1200 [00:29<02:39,  6.49it/s]"
     ]
    },
    {
     "name": "stdout",
     "output_type": "stream",
     "text": [
      "Epoch  13 , Accuracy:  94.6721 %\n"
     ]
    },
    {
     "name": "stderr",
     "output_type": "stream",
     "text": [
      " 15%|████████████████████████████████▊                                                                                                                                                                                           | 179/1200 [00:31<02:36,  6.52it/s]"
     ]
    },
    {
     "name": "stdout",
     "output_type": "stream",
     "text": [
      "Epoch  14 , Accuracy:  95.4918 %\n"
     ]
    },
    {
     "name": "stderr",
     "output_type": "stream",
     "text": [
      " 16%|███████████████████████████████████                                                                                                                                                                                         | 191/1200 [00:33<02:34,  6.52it/s]"
     ]
    },
    {
     "name": "stdout",
     "output_type": "stream",
     "text": [
      "Epoch  15 , Accuracy:  95.4918 %\n"
     ]
    },
    {
     "name": "stderr",
     "output_type": "stream",
     "text": [
      " 17%|█████████████████████████████████████▏                                                                                                                                                                                      | 203/1200 [00:35<02:32,  6.55it/s]"
     ]
    },
    {
     "name": "stdout",
     "output_type": "stream",
     "text": [
      "Epoch  16 , Accuracy:  95.9016 %\n"
     ]
    },
    {
     "name": "stderr",
     "output_type": "stream",
     "text": [
      " 18%|███████████████████████████████████████▍                                                                                                                                                                                    | 215/1200 [00:37<02:30,  6.53it/s]"
     ]
    },
    {
     "name": "stdout",
     "output_type": "stream",
     "text": [
      "Epoch  17 , Accuracy:  95.9016 %\n"
     ]
    },
    {
     "name": "stderr",
     "output_type": "stream",
     "text": [
      " 19%|█████████████████████████████████████████▌                                                                                                                                                                                  | 227/1200 [00:39<02:29,  6.50it/s]"
     ]
    },
    {
     "name": "stdout",
     "output_type": "stream",
     "text": [
      "Epoch  18 , Accuracy:  95.9016 %\n"
     ]
    },
    {
     "name": "stderr",
     "output_type": "stream",
     "text": [
      " 20%|███████████████████████████████████████████▊                                                                                                                                                                                | 239/1200 [00:41<02:26,  6.55it/s]"
     ]
    },
    {
     "name": "stdout",
     "output_type": "stream",
     "text": [
      "Epoch  19 , Accuracy:  96.3115 %\n"
     ]
    },
    {
     "name": "stderr",
     "output_type": "stream",
     "text": [
      " 21%|██████████████████████████████████████████████                                                                                                                                                                              | 251/1200 [00:43<02:24,  6.56it/s]"
     ]
    },
    {
     "name": "stdout",
     "output_type": "stream",
     "text": [
      "Epoch  20 , Accuracy:  97.1312 %\n"
     ]
    },
    {
     "name": "stderr",
     "output_type": "stream",
     "text": [
      " 22%|████████████████████████████████████████████████▏                                                                                                                                                                           | 263/1200 [00:45<02:23,  6.55it/s]"
     ]
    },
    {
     "name": "stdout",
     "output_type": "stream",
     "text": [
      "Epoch  21 , Accuracy:  96.7213 %\n"
     ]
    },
    {
     "name": "stderr",
     "output_type": "stream",
     "text": [
      " 23%|██████████████████████████████████████████████████▍                                                                                                                                                                         | 275/1200 [00:47<02:21,  6.52it/s]"
     ]
    },
    {
     "name": "stdout",
     "output_type": "stream",
     "text": [
      "Epoch  22 , Accuracy:  97.1311 %\n"
     ]
    },
    {
     "name": "stderr",
     "output_type": "stream",
     "text": [
      " 24%|████████████████████████████████████████████████████▌                                                                                                                                                                       | 287/1200 [00:49<02:19,  6.54it/s]"
     ]
    },
    {
     "name": "stdout",
     "output_type": "stream",
     "text": [
      "Epoch  23 , Accuracy:  97.541 %\n"
     ]
    },
    {
     "name": "stderr",
     "output_type": "stream",
     "text": [
      " 25%|██████████████████████████████████████████████████████▊                                                                                                                                                                     | 299/1200 [00:51<02:17,  6.53it/s]"
     ]
    },
    {
     "name": "stdout",
     "output_type": "stream",
     "text": [
      "Epoch  24 , Accuracy:  97.541 %\n"
     ]
    },
    {
     "name": "stderr",
     "output_type": "stream",
     "text": [
      " 26%|█████████████████████████████████████████████████████████                                                                                                                                                                   | 311/1200 [00:53<02:16,  6.53it/s]"
     ]
    },
    {
     "name": "stdout",
     "output_type": "stream",
     "text": [
      "Epoch  25 , Accuracy:  97.541 %\n"
     ]
    },
    {
     "name": "stderr",
     "output_type": "stream",
     "text": [
      " 27%|███████████████████████████████████████████████████████████▏                                                                                                                                                                | 323/1200 [00:55<02:14,  6.52it/s]"
     ]
    },
    {
     "name": "stdout",
     "output_type": "stream",
     "text": [
      "Epoch  26 , Accuracy:  97.541 %\n"
     ]
    },
    {
     "name": "stderr",
     "output_type": "stream",
     "text": [
      " 28%|█████████████████████████████████████████████████████████████▍                                                                                                                                                              | 335/1200 [00:57<02:13,  6.48it/s]"
     ]
    },
    {
     "name": "stdout",
     "output_type": "stream",
     "text": [
      "Epoch  27 , Accuracy:  97.541 %\n"
     ]
    },
    {
     "name": "stderr",
     "output_type": "stream",
     "text": [
      " 29%|███████████████████████████████████████████████████████████████▌                                                                                                                                                            | 347/1200 [00:59<02:10,  6.52it/s]"
     ]
    },
    {
     "name": "stdout",
     "output_type": "stream",
     "text": [
      "Epoch  28 , Accuracy:  97.541 %\n"
     ]
    },
    {
     "name": "stderr",
     "output_type": "stream",
     "text": [
      " 30%|█████████████████████████████████████████████████████████████████▊                                                                                                                                                          | 359/1200 [01:02<02:08,  6.54it/s]"
     ]
    },
    {
     "name": "stdout",
     "output_type": "stream",
     "text": [
      "Epoch  29 , Accuracy:  97.541 %\n"
     ]
    },
    {
     "name": "stderr",
     "output_type": "stream",
     "text": [
      " 31%|████████████████████████████████████████████████████████████████████                                                                                                                                                        | 371/1200 [01:04<02:06,  6.54it/s]"
     ]
    },
    {
     "name": "stdout",
     "output_type": "stream",
     "text": [
      "Epoch  30 , Accuracy:  97.541 %\n"
     ]
    },
    {
     "name": "stderr",
     "output_type": "stream",
     "text": [
      " 32%|██████████████████████████████████████████████████████████████████████▏                                                                                                                                                     | 383/1200 [01:06<02:05,  6.51it/s]"
     ]
    },
    {
     "name": "stdout",
     "output_type": "stream",
     "text": [
      "Epoch  31 , Accuracy:  97.541 %\n"
     ]
    },
    {
     "name": "stderr",
     "output_type": "stream",
     "text": [
      " 33%|████████████████████████████████████████████████████████████████████████▍                                                                                                                                                   | 395/1200 [01:08<02:03,  6.54it/s]"
     ]
    },
    {
     "name": "stdout",
     "output_type": "stream",
     "text": [
      "Epoch  32 , Accuracy:  97.1311 %\n"
     ]
    },
    {
     "name": "stderr",
     "output_type": "stream",
     "text": [
      " 34%|██████████████████████████████████████████████████████████████████████████▌                                                                                                                                                 | 407/1200 [01:10<02:01,  6.52it/s]"
     ]
    },
    {
     "name": "stdout",
     "output_type": "stream",
     "text": [
      "Epoch  33 , Accuracy:  97.541 %\n"
     ]
    },
    {
     "name": "stderr",
     "output_type": "stream",
     "text": [
      " 35%|████████████████████████████████████████████████████████████████████████████▊                                                                                                                                               | 419/1200 [01:12<01:59,  6.55it/s]"
     ]
    },
    {
     "name": "stdout",
     "output_type": "stream",
     "text": [
      "Epoch  34 , Accuracy:  97.541 %\n"
     ]
    },
    {
     "name": "stderr",
     "output_type": "stream",
     "text": [
      " 36%|███████████████████████████████████████████████████████████████████████████████                                                                                                                                             | 431/1200 [01:14<01:58,  6.51it/s]"
     ]
    },
    {
     "name": "stdout",
     "output_type": "stream",
     "text": [
      "Epoch  35 , Accuracy:  97.541 %\n"
     ]
    },
    {
     "name": "stderr",
     "output_type": "stream",
     "text": [
      " 37%|█████████████████████████████████████████████████████████████████████████████████▏                                                                                                                                          | 443/1200 [01:16<01:55,  6.54it/s]"
     ]
    },
    {
     "name": "stdout",
     "output_type": "stream",
     "text": [
      "Epoch  36 , Accuracy:  97.541 %\n"
     ]
    },
    {
     "name": "stderr",
     "output_type": "stream",
     "text": [
      " 38%|███████████████████████████████████████████████████████████████████████████████████▍                                                                                                                                        | 455/1200 [01:18<01:54,  6.53it/s]"
     ]
    },
    {
     "name": "stdout",
     "output_type": "stream",
     "text": [
      "Epoch  37 , Accuracy:  97.541 %\n"
     ]
    },
    {
     "name": "stderr",
     "output_type": "stream",
     "text": [
      " 39%|█████████████████████████████████████████████████████████████████████████████████████▌                                                                                                                                      | 467/1200 [01:20<01:51,  6.55it/s]"
     ]
    },
    {
     "name": "stdout",
     "output_type": "stream",
     "text": [
      "Epoch  38 , Accuracy:  97.541 %\n"
     ]
    },
    {
     "name": "stderr",
     "output_type": "stream",
     "text": [
      " 40%|███████████████████████████████████████████████████████████████████████████████████████▊                                                                                                                                    | 479/1200 [01:22<01:50,  6.51it/s]"
     ]
    },
    {
     "name": "stdout",
     "output_type": "stream",
     "text": [
      "Epoch  39 , Accuracy:  97.541 %\n"
     ]
    },
    {
     "name": "stderr",
     "output_type": "stream",
     "text": [
      " 41%|██████████████████████████████████████████████████████████████████████████████████████████                                                                                                                                  | 491/1200 [01:24<01:48,  6.52it/s]"
     ]
    },
    {
     "name": "stdout",
     "output_type": "stream",
     "text": [
      "Epoch  40 , Accuracy:  97.541 %\n"
     ]
    },
    {
     "name": "stderr",
     "output_type": "stream",
     "text": [
      " 42%|████████████████████████████████████████████████████████████████████████████████████████████▏                                                                                                                               | 503/1200 [01:26<01:46,  6.55it/s]"
     ]
    },
    {
     "name": "stdout",
     "output_type": "stream",
     "text": [
      "Epoch  41 , Accuracy:  97.541 %\n"
     ]
    },
    {
     "name": "stderr",
     "output_type": "stream",
     "text": [
      " 43%|██████████████████████████████████████████████████████████████████████████████████████████████▍                                                                                                                             | 515/1200 [01:28<01:44,  6.52it/s]"
     ]
    },
    {
     "name": "stdout",
     "output_type": "stream",
     "text": [
      "Epoch  42 , Accuracy:  97.541 %\n"
     ]
    },
    {
     "name": "stderr",
     "output_type": "stream",
     "text": [
      " 44%|████████████████████████████████████████████████████████████████████████████████████████████████▌                                                                                                                           | 527/1200 [01:30<01:43,  6.50it/s]"
     ]
    },
    {
     "name": "stdout",
     "output_type": "stream",
     "text": [
      "Epoch  43 , Accuracy:  97.541 %\n"
     ]
    },
    {
     "name": "stderr",
     "output_type": "stream",
     "text": [
      " 45%|██████████████████████████████████████████████████████████████████████████████████████████████████▊                                                                                                                         | 539/1200 [01:32<01:40,  6.60it/s]"
     ]
    },
    {
     "name": "stdout",
     "output_type": "stream",
     "text": [
      "Epoch  44 , Accuracy:  97.541 %\n"
     ]
    },
    {
     "name": "stderr",
     "output_type": "stream",
     "text": [
      " 46%|█████████████████████████████████████████████████████████████████████████████████████████████████████                                                                                                                       | 551/1200 [01:34<01:39,  6.52it/s]"
     ]
    },
    {
     "name": "stdout",
     "output_type": "stream",
     "text": [
      "Epoch  45 , Accuracy:  97.541 %\n"
     ]
    },
    {
     "name": "stderr",
     "output_type": "stream",
     "text": [
      " 47%|███████████████████████████████████████████████████████████████████████████████████████████████████████▏                                                                                                                    | 563/1200 [01:36<01:38,  6.50it/s]"
     ]
    },
    {
     "name": "stdout",
     "output_type": "stream",
     "text": [
      "Epoch  46 , Accuracy:  97.9508 %\n"
     ]
    },
    {
     "name": "stderr",
     "output_type": "stream",
     "text": [
      " 48%|█████████████████████████████████████████████████████████████████████████████████████████████████████████▍                                                                                                                  | 575/1200 [01:38<01:36,  6.51it/s]"
     ]
    },
    {
     "name": "stdout",
     "output_type": "stream",
     "text": [
      "Epoch  47 , Accuracy:  97.9508 %\n"
     ]
    },
    {
     "name": "stderr",
     "output_type": "stream",
     "text": [
      " 49%|███████████████████████████████████████████████████████████████████████████████████████████████████████████▌                                                                                                                | 587/1200 [01:41<01:33,  6.53it/s]"
     ]
    },
    {
     "name": "stdout",
     "output_type": "stream",
     "text": [
      "Epoch  48 , Accuracy:  97.9508 %\n"
     ]
    },
    {
     "name": "stderr",
     "output_type": "stream",
     "text": [
      " 50%|█████████████████████████████████████████████████████████████████████████████████████████████████████████████▊                                                                                                              | 599/1200 [01:43<01:32,  6.53it/s]"
     ]
    },
    {
     "name": "stdout",
     "output_type": "stream",
     "text": [
      "Epoch  49 , Accuracy:  97.9508 %\n"
     ]
    },
    {
     "name": "stderr",
     "output_type": "stream",
     "text": [
      " 51%|████████████████████████████████████████████████████████████████████████████████████████████████████████████████                                                                                                            | 611/1200 [01:45<01:29,  6.55it/s]"
     ]
    },
    {
     "name": "stdout",
     "output_type": "stream",
     "text": [
      "Epoch  50 , Accuracy:  97.9508 %\n"
     ]
    },
    {
     "name": "stderr",
     "output_type": "stream",
     "text": [
      " 52%|██████████████████████████████████████████████████████████████████████████████████████████████████████████████████▏                                                                                                         | 623/1200 [01:47<01:28,  6.54it/s]"
     ]
    },
    {
     "name": "stdout",
     "output_type": "stream",
     "text": [
      "Epoch  51 , Accuracy:  97.9508 %\n"
     ]
    },
    {
     "name": "stderr",
     "output_type": "stream",
     "text": [
      " 53%|████████████████████████████████████████████████████████████████████████████████████████████████████████████████████▍                                                                                                       | 635/1200 [01:49<01:26,  6.53it/s]"
     ]
    },
    {
     "name": "stdout",
     "output_type": "stream",
     "text": [
      "Epoch  52 , Accuracy:  97.9508 %\n"
     ]
    },
    {
     "name": "stderr",
     "output_type": "stream",
     "text": [
      " 54%|██████████████████████████████████████████████████████████████████████████████████████████████████████████████████████▌                                                                                                     | 647/1200 [01:51<01:25,  6.48it/s]"
     ]
    },
    {
     "name": "stdout",
     "output_type": "stream",
     "text": [
      "Epoch  53 , Accuracy:  97.9508 %\n"
     ]
    },
    {
     "name": "stderr",
     "output_type": "stream",
     "text": [
      " 55%|████████████████████████████████████████████████████████████████████████████████████████████████████████████████████████▊                                                                                                   | 659/1200 [01:53<01:22,  6.55it/s]"
     ]
    },
    {
     "name": "stdout",
     "output_type": "stream",
     "text": [
      "Epoch  54 , Accuracy:  97.9508 %\n"
     ]
    },
    {
     "name": "stderr",
     "output_type": "stream",
     "text": [
      " 56%|███████████████████████████████████████████████████████████████████████████████████████████████████████████████████████████                                                                                                 | 671/1200 [01:55<01:20,  6.58it/s]"
     ]
    },
    {
     "name": "stdout",
     "output_type": "stream",
     "text": [
      "Epoch  55 , Accuracy:  97.9508 %\n"
     ]
    },
    {
     "name": "stderr",
     "output_type": "stream",
     "text": [
      " 57%|█████████████████████████████████████████████████████████████████████████████████████████████████████████████████████████████▏                                                                                              | 683/1200 [01:57<01:19,  6.51it/s]"
     ]
    },
    {
     "name": "stdout",
     "output_type": "stream",
     "text": [
      "Epoch  56 , Accuracy:  97.9508 %\n"
     ]
    },
    {
     "name": "stderr",
     "output_type": "stream",
     "text": [
      " 58%|███████████████████████████████████████████████████████████████████████████████████████████████████████████████████████████████▍                                                                                            | 695/1200 [01:59<01:17,  6.49it/s]"
     ]
    },
    {
     "name": "stdout",
     "output_type": "stream",
     "text": [
      "Epoch  57 , Accuracy:  97.9508 %\n"
     ]
    },
    {
     "name": "stderr",
     "output_type": "stream",
     "text": [
      " 59%|█████████████████████████████████████████████████████████████████████████████████████████████████████████████████████████████████▌                                                                                          | 707/1200 [02:01<01:15,  6.55it/s]"
     ]
    },
    {
     "name": "stdout",
     "output_type": "stream",
     "text": [
      "Epoch  58 , Accuracy:  97.9508 %\n"
     ]
    },
    {
     "name": "stderr",
     "output_type": "stream",
     "text": [
      " 60%|███████████████████████████████████████████████████████████████████████████████████████████████████████████████████████████████████▊                                                                                        | 719/1200 [02:03<01:13,  6.50it/s]"
     ]
    },
    {
     "name": "stdout",
     "output_type": "stream",
     "text": [
      "Epoch  59 , Accuracy:  97.9508 %\n"
     ]
    },
    {
     "name": "stderr",
     "output_type": "stream",
     "text": [
      " 61%|██████████████████████████████████████████████████████████████████████████████████████████████████████████████████████████████████████                                                                                      | 731/1200 [02:05<01:12,  6.48it/s]"
     ]
    },
    {
     "name": "stdout",
     "output_type": "stream",
     "text": [
      "Epoch  60 , Accuracy:  97.9508 %\n"
     ]
    },
    {
     "name": "stderr",
     "output_type": "stream",
     "text": [
      " 62%|████████████████████████████████████████████████████████████████████████████████████████████████████████████████████████████████████████▏                                                                                   | 743/1200 [02:07<01:09,  6.56it/s]"
     ]
    },
    {
     "name": "stdout",
     "output_type": "stream",
     "text": [
      "Epoch  61 , Accuracy:  97.9508 %\n"
     ]
    },
    {
     "name": "stderr",
     "output_type": "stream",
     "text": [
      " 63%|██████████████████████████████████████████████████████████████████████████████████████████████████████████████████████████████████████████▍                                                                                 | 755/1200 [02:09<01:08,  6.51it/s]"
     ]
    },
    {
     "name": "stdout",
     "output_type": "stream",
     "text": [
      "Epoch  62 , Accuracy:  97.9508 %\n"
     ]
    },
    {
     "name": "stderr",
     "output_type": "stream",
     "text": [
      " 64%|████████████████████████████████████████████████████████████████████████████████████████████████████████████████████████████████████████████▌                                                                               | 767/1200 [02:11<01:07,  6.43it/s]"
     ]
    },
    {
     "name": "stdout",
     "output_type": "stream",
     "text": [
      "Epoch  63 , Accuracy:  97.9508 %\n"
     ]
    },
    {
     "name": "stderr",
     "output_type": "stream",
     "text": [
      " 65%|██████████████████████████████████████████████████████████████████████████████████████████████████████████████████████████████████████████████▊                                                                             | 779/1200 [02:13<01:04,  6.51it/s]"
     ]
    },
    {
     "name": "stdout",
     "output_type": "stream",
     "text": [
      "Epoch  64 , Accuracy:  97.9508 %\n"
     ]
    },
    {
     "name": "stderr",
     "output_type": "stream",
     "text": [
      " 66%|█████████████████████████████████████████████████████████████████████████████████████████████████████████████████████████████████████████████████                                                                           | 791/1200 [02:15<01:02,  6.52it/s]"
     ]
    },
    {
     "name": "stdout",
     "output_type": "stream",
     "text": [
      "Epoch  65 , Accuracy:  97.9508 %\n"
     ]
    },
    {
     "name": "stderr",
     "output_type": "stream",
     "text": [
      " 67%|███████████████████████████████████████████████████████████████████████████████████████████████████████████████████████████████████████████████████▏                                                                        | 803/1200 [02:17<01:01,  6.47it/s]"
     ]
    },
    {
     "name": "stdout",
     "output_type": "stream",
     "text": [
      "Epoch  66 , Accuracy:  97.9508 %\n"
     ]
    },
    {
     "name": "stderr",
     "output_type": "stream",
     "text": [
      " 68%|█████████████████████████████████████████████████████████████████████████████████████████████████████████████████████████████████████████████████████▍                                                                      | 815/1200 [02:20<00:59,  6.47it/s]"
     ]
    },
    {
     "name": "stdout",
     "output_type": "stream",
     "text": [
      "Epoch  67 , Accuracy:  97.9508 %\n"
     ]
    },
    {
     "name": "stderr",
     "output_type": "stream",
     "text": [
      " 69%|███████████████████████████████████████████████████████████████████████████████████████████████████████████████████████████████████████████████████████▌                                                                    | 827/1200 [02:22<00:56,  6.54it/s]"
     ]
    },
    {
     "name": "stdout",
     "output_type": "stream",
     "text": [
      "Epoch  68 , Accuracy:  97.9508 %\n"
     ]
    },
    {
     "name": "stderr",
     "output_type": "stream",
     "text": [
      " 70%|█████████████████████████████████████████████████████████████████████████████████████████████████████████████████████████████████████████████████████████▊                                                                  | 839/1200 [02:24<00:55,  6.51it/s]"
     ]
    },
    {
     "name": "stdout",
     "output_type": "stream",
     "text": [
      "Epoch  69 , Accuracy:  97.9508 %\n"
     ]
    },
    {
     "name": "stderr",
     "output_type": "stream",
     "text": [
      " 71%|████████████████████████████████████████████████████████████████████████████████████████████████████████████████████████████████████████████████████████████                                                                | 851/1200 [02:26<00:53,  6.54it/s]"
     ]
    },
    {
     "name": "stdout",
     "output_type": "stream",
     "text": [
      "Epoch  70 , Accuracy:  97.9508 %\n"
     ]
    },
    {
     "name": "stderr",
     "output_type": "stream",
     "text": [
      " 72%|██████████████████████████████████████████████████████████████████████████████████████████████████████████████████████████████████████████████████████████████▏                                                             | 863/1200 [02:28<00:51,  6.50it/s]"
     ]
    },
    {
     "name": "stdout",
     "output_type": "stream",
     "text": [
      "Epoch  71 , Accuracy:  97.9508 %\n"
     ]
    },
    {
     "name": "stderr",
     "output_type": "stream",
     "text": [
      " 73%|████████████████████████████████████████████████████████████████████████████████████████████████████████████████████████████████████████████████████████████████▍                                                           | 875/1200 [02:30<00:50,  6.49it/s]"
     ]
    },
    {
     "name": "stdout",
     "output_type": "stream",
     "text": [
      "Epoch  72 , Accuracy:  97.9508 %\n"
     ]
    },
    {
     "name": "stderr",
     "output_type": "stream",
     "text": [
      " 74%|██████████████████████████████████████████████████████████████████████████████████████████████████████████████████████████████████████████████████████████████████▌                                                         | 887/1200 [02:32<00:47,  6.54it/s]"
     ]
    },
    {
     "name": "stdout",
     "output_type": "stream",
     "text": [
      "Epoch  73 , Accuracy:  97.9508 %\n"
     ]
    },
    {
     "name": "stderr",
     "output_type": "stream",
     "text": [
      " 75%|████████████████████████████████████████████████████████████████████████████████████████████████████████████████████████████████████████████████████████████████████▊                                                       | 899/1200 [02:34<00:46,  6.47it/s]"
     ]
    },
    {
     "name": "stdout",
     "output_type": "stream",
     "text": [
      "Epoch  74 , Accuracy:  97.9508 %\n"
     ]
    },
    {
     "name": "stderr",
     "output_type": "stream",
     "text": [
      " 76%|███████████████████████████████████████████████████████████████████████████████████████████████████████████████████████████████████████████████████████████████████████                                                     | 911/1200 [02:36<00:44,  6.56it/s]"
     ]
    },
    {
     "name": "stdout",
     "output_type": "stream",
     "text": [
      "Epoch  75 , Accuracy:  97.9508 %\n"
     ]
    },
    {
     "name": "stderr",
     "output_type": "stream",
     "text": [
      " 77%|█████████████████████████████████████████████████████████████████████████████████████████████████████████████████████████████████████████████████████████████████████████▏                                                  | 923/1200 [02:38<00:42,  6.54it/s]"
     ]
    },
    {
     "name": "stdout",
     "output_type": "stream",
     "text": [
      "Epoch  76 , Accuracy:  97.9508 %\n"
     ]
    },
    {
     "name": "stderr",
     "output_type": "stream",
     "text": [
      " 78%|███████████████████████████████████████████████████████████████████████████████████████████████████████████████████████████████████████████████████████████████████████████▍                                                | 935/1200 [02:40<00:40,  6.52it/s]"
     ]
    },
    {
     "name": "stdout",
     "output_type": "stream",
     "text": [
      "Epoch  77 , Accuracy:  97.9508 %\n"
     ]
    },
    {
     "name": "stderr",
     "output_type": "stream",
     "text": [
      " 79%|█████████████████████████████████████████████████████████████████████████████████████████████████████████████████████████████████████████████████████████████████████████████▌                                              | 947/1200 [02:42<00:38,  6.53it/s]"
     ]
    },
    {
     "name": "stdout",
     "output_type": "stream",
     "text": [
      "Epoch  78 , Accuracy:  97.9508 %\n"
     ]
    },
    {
     "name": "stderr",
     "output_type": "stream",
     "text": [
      " 80%|███████████████████████████████████████████████████████████████████████████████████████████████████████████████████████████████████████████████████████████████████████████████▊                                            | 959/1200 [02:44<00:37,  6.51it/s]"
     ]
    },
    {
     "name": "stdout",
     "output_type": "stream",
     "text": [
      "Epoch  79 , Accuracy:  97.9508 %\n"
     ]
    },
    {
     "name": "stderr",
     "output_type": "stream",
     "text": [
      " 81%|██████████████████████████████████████████████████████████████████████████████████████████████████████████████████████████████████████████████████████████████████████████████████                                          | 971/1200 [02:46<00:35,  6.49it/s]"
     ]
    },
    {
     "name": "stdout",
     "output_type": "stream",
     "text": [
      "Epoch  80 , Accuracy:  97.9508 %\n"
     ]
    },
    {
     "name": "stderr",
     "output_type": "stream",
     "text": [
      " 82%|████████████████████████████████████████████████████████████████████████████████████████████████████████████████████████████████████████████████████████████████████████████████████▏                                       | 983/1200 [02:48<00:33,  6.55it/s]"
     ]
    },
    {
     "name": "stdout",
     "output_type": "stream",
     "text": [
      "Epoch  81 , Accuracy:  97.9508 %\n"
     ]
    },
    {
     "name": "stderr",
     "output_type": "stream",
     "text": [
      " 83%|██████████████████████████████████████████████████████████████████████████████████████████████████████████████████████████████████████████████████████████████████████████████████████▍                                     | 995/1200 [02:50<00:31,  6.52it/s]"
     ]
    },
    {
     "name": "stdout",
     "output_type": "stream",
     "text": [
      "Epoch  82 , Accuracy:  97.541 %\n"
     ]
    },
    {
     "name": "stderr",
     "output_type": "stream",
     "text": [
      " 84%|███████████████████████████████████████████████████████████████████████████████████████████████████████████████████████████████████████████████████████████████████████████████████████▊                                   | 1007/1200 [02:52<00:29,  6.54it/s]"
     ]
    },
    {
     "name": "stdout",
     "output_type": "stream",
     "text": [
      "Epoch  83 , Accuracy:  97.9508 %\n"
     ]
    },
    {
     "name": "stderr",
     "output_type": "stream",
     "text": [
      " 85%|█████████████████████████████████████████████████████████████████████████████████████████████████████████████████████████████████████████████████████████████████████████████████████████▉                                 | 1019/1200 [02:54<00:27,  6.46it/s]"
     ]
    },
    {
     "name": "stdout",
     "output_type": "stream",
     "text": [
      "Epoch  84 , Accuracy:  97.9508 %\n"
     ]
    },
    {
     "name": "stderr",
     "output_type": "stream",
     "text": [
      " 86%|████████████████████████████████████████████████████████████████████████████████████████████████████████████████████████████████████████████████████████████████████████████████████████████▏                              | 1031/1200 [02:56<00:25,  6.56it/s]"
     ]
    },
    {
     "name": "stdout",
     "output_type": "stream",
     "text": [
      "Epoch  85 , Accuracy:  97.9508 %\n"
     ]
    },
    {
     "name": "stderr",
     "output_type": "stream",
     "text": [
      " 87%|██████████████████████████████████████████████████████████████████████████████████████████████████████████████████████████████████████████████████████████████████████████████████████████████▎                            | 1043/1200 [02:59<00:24,  6.48it/s]"
     ]
    },
    {
     "name": "stdout",
     "output_type": "stream",
     "text": [
      "Epoch  86 , Accuracy:  97.9508 %\n"
     ]
    },
    {
     "name": "stderr",
     "output_type": "stream",
     "text": [
      " 88%|████████████████████████████████████████████████████████████████████████████████████████████████████████████████████████████████████████████████████████████████████████████████████████████████▌                          | 1055/1200 [03:01<00:22,  6.47it/s]"
     ]
    },
    {
     "name": "stdout",
     "output_type": "stream",
     "text": [
      "Epoch  87 , Accuracy:  97.9508 %\n"
     ]
    },
    {
     "name": "stderr",
     "output_type": "stream",
     "text": [
      " 89%|██████████████████████████████████████████████████████████████████████████████████████████████████████████████████████████████████████████████████████████████████████████████████████████████████▋                        | 1067/1200 [03:03<00:20,  6.53it/s]"
     ]
    },
    {
     "name": "stdout",
     "output_type": "stream",
     "text": [
      "Epoch  88 , Accuracy:  97.9508 %\n"
     ]
    },
    {
     "name": "stderr",
     "output_type": "stream",
     "text": [
      " 90%|████████████████████████████████████████████████████████████████████████████████████████████████████████████████████████████████████████████████████████████████████████████████████████████████████▉                      | 1079/1200 [03:05<00:18,  6.54it/s]"
     ]
    },
    {
     "name": "stdout",
     "output_type": "stream",
     "text": [
      "Epoch  89 , Accuracy:  97.9508 %\n"
     ]
    },
    {
     "name": "stderr",
     "output_type": "stream",
     "text": [
      " 91%|███████████████████████████████████████████████████████████████████████████████████████████████████████████████████████████████████████████████████████████████████████████████████████████████████████                    | 1091/1200 [03:07<00:16,  6.53it/s]"
     ]
    },
    {
     "name": "stdout",
     "output_type": "stream",
     "text": [
      "Epoch  90 , Accuracy:  97.9508 %\n"
     ]
    },
    {
     "name": "stderr",
     "output_type": "stream",
     "text": [
      " 92%|█████████████████████████████████████████████████████████████████████████████████████████████████████████████████████████████████████████████████████████████████████████████████████████████████████████▎                 | 1103/1200 [03:09<00:14,  6.55it/s]"
     ]
    },
    {
     "name": "stdout",
     "output_type": "stream",
     "text": [
      "Epoch  91 , Accuracy:  97.9508 %\n"
     ]
    },
    {
     "name": "stderr",
     "output_type": "stream",
     "text": [
      " 93%|███████████████████████████████████████████████████████████████████████████████████████████████████████████████████████████████████████████████████████████████████████████████████████████████████████████▍               | 1115/1200 [03:11<00:13,  6.45it/s]"
     ]
    },
    {
     "name": "stdout",
     "output_type": "stream",
     "text": [
      "Epoch  92 , Accuracy:  97.9508 %\n"
     ]
    },
    {
     "name": "stderr",
     "output_type": "stream",
     "text": [
      " 94%|█████████████████████████████████████████████████████████████████████████████████████████████████████████████████████████████████████████████████████████████████████████████████████████████████████████████▋             | 1127/1200 [03:13<00:11,  6.49it/s]"
     ]
    },
    {
     "name": "stdout",
     "output_type": "stream",
     "text": [
      "Epoch  93 , Accuracy:  97.9508 %\n"
     ]
    },
    {
     "name": "stderr",
     "output_type": "stream",
     "text": [
      " 95%|███████████████████████████████████████████████████████████████████████████████████████████████████████████████████████████████████████████████████████████████████████████████████████████████████████████████▊           | 1139/1200 [03:15<00:09,  6.42it/s]"
     ]
    },
    {
     "name": "stdout",
     "output_type": "stream",
     "text": [
      "Epoch  94 , Accuracy:  97.9508 %\n"
     ]
    },
    {
     "name": "stderr",
     "output_type": "stream",
     "text": [
      " 96%|██████████████████████████████████████████████████████████████████████████████████████████████████████████████████████████████████████████████████████████████████████████████████████████████████████████████████         | 1151/1200 [03:18<00:07,  6.53it/s]"
     ]
    },
    {
     "name": "stdout",
     "output_type": "stream",
     "text": [
      "Epoch  95 , Accuracy:  97.9508 %\n"
     ]
    },
    {
     "name": "stderr",
     "output_type": "stream",
     "text": [
      " 97%|████████████████████████████████████████████████████████████████████████████████████████████████████████████████████████████████████████████████████████████████████████████████████████████████████████████████████▏      | 1163/1200 [03:20<00:05,  6.44it/s]"
     ]
    },
    {
     "name": "stdout",
     "output_type": "stream",
     "text": [
      "Epoch  96 , Accuracy:  97.541 %\n"
     ]
    },
    {
     "name": "stderr",
     "output_type": "stream",
     "text": [
      " 98%|██████████████████████████████████████████████████████████████████████████████████████████████████████████████████████████████████████████████████████████████████████████████████████████████████████████████████████▍    | 1175/1200 [03:22<00:03,  6.49it/s]"
     ]
    },
    {
     "name": "stdout",
     "output_type": "stream",
     "text": [
      "Epoch  97 , Accuracy:  97.9508 %\n"
     ]
    },
    {
     "name": "stderr",
     "output_type": "stream",
     "text": [
      " 99%|████████████████████████████████████████████████████████████████████████████████████████████████████████████████████████████████████████████████████████████████████████████████████████████████████████████████████████▋  | 1187/1200 [03:24<00:02,  6.49it/s]"
     ]
    },
    {
     "name": "stdout",
     "output_type": "stream",
     "text": [
      "Epoch  98 , Accuracy:  97.9508 %\n"
     ]
    },
    {
     "name": "stderr",
     "output_type": "stream",
     "text": [
      "100%|██████████████████████████████████████████████████████████████████████████████████████████████████████████████████████████████████████████████████████████████████████████████████████████████████████████████████████████▊| 1199/1200 [03:26<00:00,  6.49it/s]"
     ]
    },
    {
     "name": "stdout",
     "output_type": "stream",
     "text": [
      "Epoch  99 , Accuracy:  97.9508 %\n"
     ]
    },
    {
     "name": "stderr",
     "output_type": "stream",
     "text": [
      "100%|███████████████████████████████████████████████████████████████████████████████████████████████████████████████████████████████████████████████████████████████████████████████████████████████████████████████████████████| 1200/1200 [03:26<00:00,  4.88it/s]\n"
     ]
    },
    {
     "name": "stdout",
     "output_type": "stream",
     "text": [
      "Final Accuracy:  98.3606 %\n",
      "Final Accuracy:  98.3607 %\n",
      "validation accuracy: 98.3606\n",
      "Precision 0.990950226244\n",
      "Recall 0.990950226244\n",
      "f1_score 0.990950226244\n",
      "confusion_matrix\n",
      "[[ 21   2]\n",
      " [  2 219]]\n"
     ]
    }
   ],
   "source": [
    "import tensorflow as tf\n",
    "#import input_data\n",
    "import math\n",
    "import os\n",
    "import csv\n",
    "from tqdm import tqdm\n",
    "import sklearn as sk\n",
    "from sklearn.metrics import confusion_matrix\n",
    "\n",
    "\n",
    "LOGDIR = \"./log\"\n",
    "\n",
    "layer_sizes = [20207, 2000, 1000, 500, 250, 10,2]\n",
    "\n",
    "L = len(layer_sizes) - 1  # number of layers\n",
    "\n",
    "\n",
    "\n",
    "num_epochs = 100\n",
    "num_labeled = 60\n",
    "num_examples = 730\n",
    "\n",
    "learning_rate = 0.01\n",
    "\n",
    "batch_size = 60\n",
    "\n",
    "num_iter = (num_examples//batch_size) * num_epochs  # number of loop iterations\n",
    "\n",
    "inputs = tf.placeholder(tf.float32, shape=(None, layer_sizes[0]), name= \"input\")\n",
    "outputs = tf.placeholder(tf.float32, name = \"output\")\n",
    "\n",
    "\n",
    "def bi(inits, size, name):\n",
    "    with tf.name_scope(name):\n",
    "        b = tf.Variable(inits * tf.ones([size]), name=\"B\")\n",
    "        tf.summary.histogram(\"bias\", b)\n",
    "        return b\n",
    "\n",
    "def wi(shape, name):\n",
    "    with tf.name_scope(name):\n",
    "        w = tf.Variable(tf.random_normal(shape, name=\"W\")) / math.sqrt(shape[0])\n",
    "        tf.summary.histogram(\"weight\", w)\n",
    "        return w\n",
    "\n",
    "shapes = list(zip(list(layer_sizes)[:-1], list(layer_sizes[1:])))  # shapes of linear layers\n",
    "\n",
    "weights = {'W': [wi(s, \"W\") for s in shapes],  # Encoder weights\n",
    "           'V': [wi(s[::-1], \"V\") for s in shapes],  # Decoder weights\n",
    "           # batch normalization parameter to shift the normalized value\n",
    "           'beta': [bi(0.0, layer_sizes[l+1], \"beta\") for l in range(L)],\n",
    "           # batch normalization parameter to scale the normalized value\n",
    "           'gamma': [bi(1.0, layer_sizes[l+1], \"beta\") for l in range(L)]}\n",
    "\n",
    "noise_std = 0.3  # scaling factor for noise used in corrupted encoder\n",
    "\n",
    "# hyperparameters that denote the importance of each layer\n",
    "denoising_cost = [1000.0, 10.0, 0.10, 0.10, 0.10, 0.10, 0.10]\n",
    "\n",
    "join = lambda l, u: tf.concat([l, u], 0)\n",
    "labeled = lambda x: tf.slice(x, [0, 0], [batch_size, -1]) if x is not None else x\n",
    "unlabeled = lambda x: tf.slice(x, [batch_size, 0], [-1, -1]) if x is not None else x\n",
    "split_lu = lambda x: (labeled(x), unlabeled(x))\n",
    "\n",
    "training = tf.placeholder(tf.bool)\n",
    "\n",
    "ewma = tf.train.ExponentialMovingAverage(decay=0.99)  # to calculate the moving averages of mean and variance\n",
    "bn_assigns = []  # this list stores the updates to be made to average mean and variance\n",
    "\n",
    "\n",
    "def batch_normalization(batch, mean=None, var=None):\n",
    "    if mean is None or var is None:\n",
    "        mean, var = tf.nn.moments(batch, axes=[0])\n",
    "    return (batch - mean) / tf.sqrt(var + tf.constant(1e-10))\n",
    "\n",
    "# average mean and variance of all layers\n",
    "running_mean = [tf.Variable(tf.constant(0.0, shape=[l]), trainable=False) for l in layer_sizes[1:]]\n",
    "running_var = [tf.Variable(tf.constant(1.0, shape=[l]), trainable=False) for l in layer_sizes[1:]]\n",
    "\n",
    "\n",
    "def update_batch_normalization(batch, l):\n",
    "    \"batch normalize + update average mean and variance of layer l\"\n",
    "    mean, var = tf.nn.moments(batch, axes=[0])\n",
    "    assign_mean = running_mean[l-1].assign(mean)\n",
    "    assign_var = running_var[l-1].assign(var)\n",
    "    bn_assigns.append(ewma.apply([running_mean[l-1], running_var[l-1]]))\n",
    "    with tf.control_dependencies([assign_mean, assign_var]):\n",
    "        return (batch - mean) / tf.sqrt(var + 1e-10)\n",
    "\n",
    "\n",
    "def encoder(inputs, noise_std):\n",
    "    h = inputs + tf.random_normal(tf.shape(inputs)) * noise_std  # add noise to input\n",
    "    d = {}  # to store the pre-activation, activation, mean and variance for each layer\n",
    "    # The data for labeled and unlabeled examples are stored separately\n",
    "    d['labeled'] = {'z': {}, 'm': {}, 'v': {}, 'h': {}}\n",
    "    d['unlabeled'] = {'z': {}, 'm': {}, 'v': {}, 'h': {}}\n",
    "    d['labeled']['z'][0], d['unlabeled']['z'][0] = split_lu(h)\n",
    "    for l in range(1, L+1):\n",
    "        print (\"Layer \", l, \": \", layer_sizes[l-1], \" -> \", layer_sizes[l])\n",
    "        d['labeled']['h'][l-1], d['unlabeled']['h'][l-1] = split_lu(h)\n",
    "        z_pre = tf.matmul(h, weights['W'][l-1])  # pre-activation\n",
    "        z_pre_l, z_pre_u = split_lu(z_pre)  # split labeled and unlabeled examples\n",
    "\n",
    "        m, v = tf.nn.moments(z_pre_u, axes=[0])\n",
    "\n",
    "        # if training:\n",
    "        def training_batch_norm():\n",
    "            # Training batch normalization\n",
    "            # batch normalization for labeled and unlabeled examples is performed separately\n",
    "            if noise_std > 0:\n",
    "                # Corrupted encoder\n",
    "                # batch normalization + noise\n",
    "                z = join(batch_normalization(z_pre_l), batch_normalization(z_pre_u, m, v))\n",
    "                z += tf.random_normal(tf.shape(z_pre)) * noise_std\n",
    "            else:\n",
    "                # Clean encoder\n",
    "                # batch normalization + update the average mean and variance using batch mean and variance of labeled examples\n",
    "                z = join(update_batch_normalization(z_pre_l, l), batch_normalization(z_pre_u, m, v))\n",
    "            return z\n",
    "\n",
    "        # else:\n",
    "        def eval_batch_norm():\n",
    "            # Evaluation batch normalization\n",
    "            # obtain average mean and variance and use it to normalize the batch\n",
    "            mean = ewma.average(running_mean[l-1])\n",
    "            var = ewma.average(running_var[l-1])\n",
    "            z = batch_normalization(z_pre, mean, var)\n",
    "            # Instead of the above statement, the use of the following 2 statements containing a typo\n",
    "            # consistently produces a 0.2% higher accuracy for unclear reasons.\n",
    "            return z\n",
    "\n",
    "        # perform batch normalization according to value of boolean \"training\" placeholder:\n",
    "        z = tf.cond(training, training_batch_norm, eval_batch_norm)\n",
    "\n",
    "        if l == L:\n",
    "            # use softmax activation in output layer\n",
    "            h = tf.nn.softmax(weights['gamma'][l-1] * (z + weights[\"beta\"][l-1]))\n",
    "        else:\n",
    "            # use ReLU activation in hidden layers\n",
    "            h = tf.nn.relu(z + weights[\"beta\"][l-1])\n",
    "        d['labeled']['z'][l], d['unlabeled']['z'][l] = split_lu(z)\n",
    "        d['unlabeled']['m'][l], d['unlabeled']['v'][l] = m, v  # save mean and variance of unlabeled examples for decoding\n",
    "    d['labeled']['h'][l], d['unlabeled']['h'][l] = split_lu(h)\n",
    "    return h, d\n",
    "\n",
    "print (\"=== Corrupted Encoder ===\")\n",
    "y_c, corr = encoder(inputs, noise_std)\n",
    "\n",
    "print (\"=== Clean Encoder ===\")\n",
    "y, clean = encoder(inputs, 0.0)  # 0.0 -> do not add noise\n",
    "\n",
    "print (\"=== Decoder ===\")\n",
    "\n",
    "\n",
    "def g_gauss(z_c, u, size):\n",
    "    \"gaussian denoising function proposed in the original paper\"\n",
    "    wi = lambda inits, name: tf.Variable(inits * tf.ones([size]), name=name)\n",
    "    a1 = wi(0., 'a1')\n",
    "    a2 = wi(1., 'a2')\n",
    "    a3 = wi(0., 'a3')\n",
    "    a4 = wi(0., 'a4')\n",
    "    a5 = wi(0., 'a5')\n",
    "\n",
    "    a6 = wi(0., 'a6')\n",
    "    a7 = wi(1., 'a7')\n",
    "    a8 = wi(0., 'a8')\n",
    "    a9 = wi(0., 'a9')\n",
    "    a10 = wi(0., 'a10')\n",
    "\n",
    "    mu = a1 * tf.sigmoid(a2 * u + a3) + a4 * u + a5\n",
    "    v = a6 * tf.sigmoid(a7 * u + a8) + a9 * u + a10\n",
    "\n",
    "    z_est = (z_c - mu) * v + mu\n",
    "    return z_est\n",
    "\n",
    "# Decoder\n",
    "z_est = {}\n",
    "d_cost = []  # to store the denoising cost of all layers\n",
    "for l in range(L, -1, -1):\n",
    "    print (\"Layer \", l, \": \", layer_sizes[l+1] if l+1 < len(layer_sizes) else None, \" -> \", layer_sizes[l], \", denoising cost: \", denoising_cost[l])\n",
    "    z, z_c = clean['unlabeled']['z'][l], corr['unlabeled']['z'][l]\n",
    "    m, v = clean['unlabeled']['m'].get(l, 0), clean['unlabeled']['v'].get(l, 1-1e-10)\n",
    "    if l == L:\n",
    "        u = unlabeled(y_c)\n",
    "    else:\n",
    "        u = tf.matmul(z_est[l+1], weights['V'][l])\n",
    "    u = batch_normalization(u)\n",
    "    z_est[l] = g_gauss(z_c, u, layer_sizes[l])\n",
    "    z_est_bn = (z_est[l] - m) / v\n",
    "    # append the cost of this layer to d_cost\n",
    "    d_cost.append((tf.reduce_mean(tf.reduce_sum(tf.square(z_est_bn - z), 1)) / layer_sizes[l]) * denoising_cost[l])\n",
    "\n",
    "# calculate total unsupervised cost by adding the denoising cost of all layers\n",
    "u_cost = tf.add_n(d_cost)\n",
    "\n",
    "y_N = labeled(y_c)\n",
    "cost = -tf.reduce_mean(tf.reduce_sum(outputs*tf.log(y_N), 1))  # supervised cost\n",
    "loss = cost + u_cost  # total cost\n",
    "\n",
    "pred_cost = -tf.reduce_mean(tf.reduce_sum(outputs*tf.log(y), 1))  # cost used for prediction\n",
    "with tf.name_scope(\"accuracy\"):\n",
    "    correct_prediction = tf.equal(tf.argmax(y, 1), tf.argmax(outputs, 1))  # no of correct predictions\n",
    "    accuracy = tf.reduce_mean(tf.cast(correct_prediction, \"float\")) * tf.constant(100.0)\n",
    "    tf.summary.scalar(\"accuracy\", accuracy)\n",
    "\n",
    "#learning_rate = tf.Variable(starter_learning_rate, trainable=False)\n",
    "with tf.name_scope(\"train\"):\n",
    "    train_step = tf.train.AdamOptimizer(learning_rate).minimize(loss)\n",
    "    \n",
    "\n",
    "\n",
    "# add the updates of batch normalization statistics to train_step\n",
    "bn_updates = tf.group(*bn_assigns)\n",
    "with tf.control_dependencies([train_step]):\n",
    "    train_step = tf.group(bn_updates)\n",
    "\n",
    "print (\"===  Loading Data ===\")\n",
    "\n",
    "#load the data\n",
    "pickle_file = \"./gmql_data/Datasets/breast_data_all_divided_4.pickle\"\n",
    "with open(pickle_file, 'rb') as f:\n",
    "    save = pickle.load(f)\n",
    "    train_dataset = save['train_dataset']\n",
    "    train_labels = save['train_labels']\n",
    "    test_dataset = save['test_dataset']\n",
    "    test_labels = save['test_labels']\n",
    "    valid_dataset = save['valid_dataset']\n",
    "    valid_labels = save['valid_labels']\n",
    "    del save  # hint to help gc free up memory\n",
    "class DataSets(object):\n",
    "    pass\n",
    "data_sets = DataSets()\n",
    "\n",
    "train_labels = dense_to_one_hot(fix_label(train_labels)).astype(numpy.float32)\n",
    "test_labels = dense_to_one_hot(fix_label(test_labels)).astype(numpy.float32)\n",
    "valid_labels = dense_to_one_hot(fix_label(valid_labels)).astype(numpy.float32)\n",
    "\n",
    "#combine train and test set for cross validation\n",
    "newtrainlabel = numpy.concatenate((train_labels, test_labels), axis=0)\n",
    "newtraindata = numpy.concatenate((train_dataset, test_dataset), axis=0)\n",
    "\n",
    "x = newtraindata\n",
    "z = newtrainlabel\n",
    "\n",
    "sss = StratifiedShuffleSplit(n_splits=5, test_size=0.25, random_state=0)\n",
    "sss.get_n_splits(x, z)\n",
    "\n",
    "# 5X cross validation\n",
    "for train_index, valid_index in sss.split(x, z):\n",
    "    \n",
    "    x_train, x_valid = x[train_index], x[valid_index]\n",
    "    z_train, z_valid = z[train_index], z[valid_index]\n",
    "    #print (z_train )\n",
    "    \n",
    "    data_sets.train = SemiDataSet(x_train,z_train , 60)\n",
    "    data_sets.validation = DataSet(valid_dataset,valid_labels)\n",
    "    data_sets.test = DataSet(x_valid,z_valid )\n",
    "    \n",
    "    print (data_sets.train.unlabeled_ds.labels.shape)\n",
    "    print (data_sets.train.unlabeled_ds.dataset.shape)\n",
    "    expression_dataset = data_sets\n",
    "\n",
    "    saver = tf.train.Saver(write_version=tf.train.SaverDef.V1)\n",
    "\n",
    "\n",
    "\n",
    "    print (\"===  Starting Session ===\")\n",
    "\n",
    "    sess = tf.Session()\n",
    "    print(\"session started\")\n",
    "    i_iter = 0\n",
    "    #create checkpoint \n",
    "#     ckpt = tf.train.get_checkpoint_state('checkpoints_cancer/')  # get latest checkpoint (if any)\n",
    "#     if ckpt and ckpt.model_checkpoint_path:\n",
    "#         # if checkpoint exists, restore the parameters and set epoch_n and i_iter\n",
    "#         saver.restore(sess, ckpt.model_checkpoint_path)\n",
    "#         epoch_n = int(ckpt.model_checkpoint_path.split('-')[1])\n",
    "#         i_iter = (epoch_n+1) * (num_examples//batch_size)\n",
    "#         print (\"Restored Epoch \", epoch_n)\n",
    "#     else:\n",
    "#         # no checkpoint exists. create checkpoints directory if it does not exist.\n",
    "#         if not os.path.exists('checkpoints_cancer'):\n",
    "#             os.makedirs('checkpoints_cancer')\n",
    "#         writer = tf.summary.FileWriter('./log', sess.graph)\n",
    "#         init = tf.global_variables_initializer()\n",
    "#         sess.run(init)\n",
    "    \n",
    "\n",
    "    init = tf.global_variables_initializer()\n",
    "    sess.run(init)\n",
    "\n",
    "\n",
    "\n",
    "\n",
    "    print (\"=== Training ===\")\n",
    "    print (\"Initial Accuracy: \", sess.run(accuracy, feed_dict={inputs: expression_dataset.test.dataset, outputs: expression_dataset.test.labels, training: False}), \"%\")\n",
    "\n",
    "\n",
    "    for i in tqdm(range(i_iter, num_iter)):\n",
    "        dataset, labels = expression_dataset.train.next_batch(batch_size)\n",
    "        sess.run(train_step, feed_dict={inputs: dataset, outputs: labels, training: True})\n",
    "\n",
    "        if (i > 1) and ((i+1) % (num_iter//num_epochs) == 0):\n",
    "            epoch_n = i//(num_examples//batch_size)\n",
    "            sess.run(accuracy, feed_dict={inputs: expression_dataset.test.dataset, outputs:expression_dataset.test.labels, training: False})\n",
    "\n",
    "            print (\"Epoch \", epoch_n, \", Accuracy: \", sess.run(accuracy, feed_dict={inputs: expression_dataset.test.dataset, outputs:expression_dataset.test.labels, training: False}), \"%\")     \n",
    "            with open('train_log_cancer', 'a') as train_log:\n",
    "                # write test accuracy to file \"train_log\"\n",
    "                train_log_w = csv.writer(train_log)\n",
    "                log_i = [epoch_n] + sess.run([accuracy], feed_dict={inputs: expression_dataset.test.dataset, outputs: expression_dataset.test.labels, training: False})\n",
    "                train_log_w.writerow(log_i)\n",
    "            \n",
    "            if sess.run(accuracy, feed_dict={inputs: expression_dataset.test.dataset, outputs:expression_dataset.test.labels, training: False})> 99 and epoch_n > 30:\n",
    "                break\n",
    "\n",
    "\n",
    "\n",
    "    print (\"Final Accuracy: \", sess.run(accuracy, feed_dict={inputs: expression_dataset.validation.dataset, outputs: expression_dataset.validation.labels, training: False}), \"%\")\n",
    "    with open('train_log_cancer', 'a') as train_log:\n",
    "    # write test accuracy to file \"train_log\"\n",
    "      train_log_w = csv.writer(train_log)\n",
    "      log_i = [\"Final accuracy: \"] + sess.run([accuracy], feed_dict={inputs: expression_dataset.validation.dataset, outputs: expression_dataset.validation.labels, training: False})\n",
    "      train_log_w.writerow(log_i)\n",
    "      train_log_w.writerow([\"breast tum featurelar cv 5 \"] )             \n",
    "\n",
    "    print (\"Final Accuracy: \", sess.run(accuracy, feed_dict={inputs: expression_dataset.validation.dataset, outputs: expression_dataset.validation.labels, training: False}), \"%\")\n",
    "\n",
    "    y_p = tf.argmax(y, 1)\n",
    "    val_accuracy, y_pred = sess.run([accuracy,y_p], feed_dict={inputs: expression_dataset.validation.dataset, outputs: expression_dataset.validation.labels, training: False})\n",
    "    print (\"validation accuracy:\", val_accuracy)\n",
    "    y_true = numpy.argmax(expression_dataset.validation.labels,1)\n",
    "    print (\"Precision\", sk.metrics.precision_score(y_true, y_pred))\n",
    "    print (\"Recall\", sk.metrics.recall_score(y_true, y_pred))\n",
    "    print (\"f1_score\", sk.metrics.f1_score(y_true, y_pred))\n",
    "    print (\"confusion_matrix\")\n",
    "    print (sk.metrics.confusion_matrix(y_true, y_pred))\n",
    "\n",
    "\n",
    "    sess.close()"
   ]
  },
  {
   "cell_type": "code",
   "execution_count": null,
   "metadata": {
    "collapsed": true
   },
   "outputs": [],
   "source": []
  }
 ],
 "metadata": {
  "kernelspec": {
   "display_name": "Python 3",
   "language": "python",
   "name": "python3"
  },
  "language_info": {
   "codemirror_mode": {
    "name": "ipython",
    "version": 3
   },
   "file_extension": ".py",
   "mimetype": "text/x-python",
   "name": "python",
   "nbconvert_exporter": "python",
   "pygments_lexer": "ipython3",
   "version": "3.6.4"
  }
 },
 "nbformat": 4,
 "nbformat_minor": 2
}
